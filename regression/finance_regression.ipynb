{
 "cells": [
  {
   "cell_type": "code",
   "execution_count": 1,
   "metadata": {},
   "outputs": [
    {
     "name": "stderr",
     "output_type": "stream",
     "text": [
      "/Users/wesley/anaconda/lib/python2.7/site-packages/sklearn/cross_validation.py:44: DeprecationWarning: This module was deprecated in version 0.18 in favor of the model_selection module into which all the refactored classes and functions are moved. Also note that the interface of the new CV iterators are different from that of this module. This module will be removed in 0.20.\n",
      "  \"This module will be removed in 0.20.\", DeprecationWarning)\n"
     ]
    },
    {
     "name": "stdout",
     "output_type": "stream",
     "text": [
      "Coeff:  [ 5.44814029]\n",
      "Intercept:  -102360.543294\n",
      "Score:  0.0455091926995\n",
      "Score:  -1.48499241737\n"
     ]
    },
    {
     "data": {
      "image/png": "[encoded data removed]",
      "text/plain": [
       "<matplotlib.figure.Figure at 0x114abce10>"
      ]
     },
     "metadata": {},
     "output_type": "display_data"
    },
    {
     "name": "stdout",
     "output_type": "stream",
     "text": [
      "new Coeff:  [ 2.27410114]\n",
      "new Intercept:  124444.388866\n",
      "new Score:  -0.123597985403\n",
      "new Score:  0.251488150398\n"
     ]
    }
   ],
   "source": [
    "# %load finance_regression.py\n",
    "#!/usr/bin/python\n",
    "\n",
    "\"\"\"\n",
    "    Starter code for the regression mini-project.\n",
    "    \n",
    "    Loads up/formats a modified version of the dataset\n",
    "    (why modified?  we've removed some trouble points\n",
    "    that you'll find yourself in the outliers mini-project).\n",
    "\n",
    "    Draws a little scatterplot of the training/testing data\n",
    "\n",
    "    You fill in the regression code where indicated:\n",
    "\"\"\"    \n",
    "\n",
    "\n",
    "import sys\n",
    "import pickle\n",
    "sys.path.append(\"../tools/\")\n",
    "from feature_format import featureFormat, targetFeatureSplit\n",
    "dictionary = pickle.load( open(\"../final_project/final_project_dataset_modified.pkl\", \"r\") )\n",
    "\n",
    "### list the features you want to look at--first item in the \n",
    "### list will be the \"target\" feature\n",
    "features_list = [\"bonus\", \"salary\"]\n",
    "#features_list = ['bonus', 'long_term_incentive' ]\n",
    "\n",
    "data = featureFormat( dictionary, features_list, remove_any_zeroes=True)\n",
    "target, features = targetFeatureSplit( data )\n",
    "\n",
    "### training-testing split needed in regression, just like classification\n",
    "from sklearn.cross_validation import train_test_split\n",
    "feature_train, feature_test, target_train, target_test = train_test_split(features, target, test_size=0.5, random_state=42)\n",
    "train_color = \"b\"\n",
    "test_color = \"r\"\n",
    "\n",
    "\n",
    "\n",
    "### Your regression goes here!\n",
    "### Please name it reg, so that the plotting code below picks it up and \n",
    "### plots it correctly. Don't forget to change the test_color above from \"b\" to\n",
    "### \"r\" to differentiate training points from test points.\n",
    "\n",
    "\n",
    "from sklearn import linear_model\n",
    "\n",
    "reg = linear_model.LinearRegression()\n",
    "reg.fit(feature_train, target_train)\n",
    "print \"Coeff: \", reg.coef_\n",
    "print \"Intercept: \", reg.intercept_\n",
    "print \"Score: \", reg.score(feature_train, target_train)\n",
    "print \"Score: \", reg.score(feature_test, target_test)\n",
    "\n",
    "### draw the scatterplot, with color-coded training and testing points\n",
    "import matplotlib.pyplot as plt\n",
    "for feature, target in zip(feature_test, target_test):\n",
    "    plt.scatter( feature, target, color=test_color ) \n",
    "for feature, target in zip(feature_train, target_train):\n",
    "    plt.scatter( feature, target, color=train_color ) \n",
    "\n",
    "### labels for the legend\n",
    "plt.scatter(feature_test[0], target_test[0], color=test_color, label=\"test\")\n",
    "plt.scatter(feature_test[0], target_test[0], color=train_color, label=\"train\")\n",
    "\n",
    "\n",
    "\n",
    "\n",
    "### draw the regression line, once it's coded\n",
    "try:\n",
    "    plt.plot( feature_test, reg.predict(feature_test) )\n",
    "except NameError:\n",
    "    pass\n",
    "\n",
    "reg.fit(feature_test, target_test)\n",
    "plt.plot(feature_train, reg.predict(feature_train), color=\"g\") \n",
    "\n",
    "plt.xlabel(features_list[1])\n",
    "plt.ylabel(features_list[0])\n",
    "plt.legend()\n",
    "plt.show()\n",
    "\n",
    "print \"new Coeff: \", reg.coef_\n",
    "print \"new Intercept: \", reg.intercept_\n",
    "print \"new Score: \", reg.score(feature_train, target_train)\n",
    "print \"new Score: \", reg.score(feature_test, target_test)\n",
    "\n"
   ]
  },
  {
   "cell_type": "code",
   "execution_count": 5,
   "metadata": {},
   "outputs": [
    {
     "name": "stdout",
     "output_type": "stream",
     "text": [
      " [array([ 206121.]), array([ 365788.]), array([ 224305.]), array([ 510364.]), array([ 249201.]), array([ 428780.]), array([ 288542.]), array([ 239671.]), array([ 267093.]), array([ 288558.]), array([ 420636.]), array([ 365163.]), array([ 492375.]), array([ 236457.]), array([ 1060932.]), array([ 199157.]), array([ 247338.]), array([ 261809.]), array([ 259996.]), array([ 263413.]), array([ 257486.]), array([ 231946.]), array([ 370448.]), array([ 210692.]), array([ 162779.]), array([ 248017.]), array([ 374125.]), array([ 404338.]), array([ 187922.]), array([ 192008.]), array([ 317543.]), array([ 274975.]), array([ 288589.]), array([ 275101.]), array([ 655037.]), array([ 231330.]), array([ 250100.]), array([ 210500.]), array([ 440698.]), array([ 357091.])] [600000.0, 600000.0, 800000.0, 3000000.0, 700000.0, 1500000.0, 1200000.0, 400000.0, 325000.0, 250000.0, 1750000.0, 3000000.0, 800000.0, 200000.0, 2000000.0, 350000.0, 300000.0, 300000.0, 325000.0, 900000.0, 700000.0, 850000.0, 2600000.0, 750000.0, 100000.0, 500000.0, 1150000.0, 1000000.0, 250000.0, 509870.0, 450000.0, 600000.0, 788750.0, 400000.0, 300000.0, 700000.0, 600000.0, 425000.0, 1300000.0, 850000.0]\n"
     ]
    }
   ],
   "source": []
  }
 ],
 "metadata": {
  "kernelspec": {
   "display_name": "Python 2",
   "language": "python",
   "name": "python2"
  },
  "language_info": {
   "codemirror_mode": {
    "name": "ipython",
    "version": 2
   },
   "file_extension": ".py",
   "mimetype": "text/x-python",
   "name": "python",
   "nbconvert_exporter": "python",
   "pygments_lexer": "ipython2",
   "version": "2.7.14"
  }
 },
 "nbformat": 4,
 "nbformat_minor": 2
}
