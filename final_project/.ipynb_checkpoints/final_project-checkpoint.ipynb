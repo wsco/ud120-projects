{
 "cells": [
  {
   "cell_type": "markdown",
   "metadata": {},
   "source": [
    "# Person of Interest Identification - Enron\n",
    "## Udacity - Introduction to Machine Learning\n",
    "### Wesley Scoggin\n",
    "**Purpose:** To Identify persons of interest (POI) utilizing machine learning techniques to evaluate email data published as part of the fraud investigation of Enron business practices in the early 2000's\n"
   ]
  },
  {
   "cell_type": "code",
   "execution_count": null,
   "metadata": {},
   "outputs": [
    {
     "data": {
      "text/html": [
       "<script>jQuery(function() {if (jQuery(\"body.notebook_app\").length == 0) { jQuery(\".input_area\").toggle(); jQuery(\".prompt\").toggle();}});</script>"
      ]
     },
     "metadata": {},
     "output_type": "display_data"
    },
    {
     "data": {
      "text/html": [
       "<button onclick=\"jQuery('.input_area').toggle(); jQuery('.prompt').toggle();\">Toggle code</button>"
      ]
     },
     "metadata": {},
     "output_type": "display_data"
    }
   ],
   "source": [
    "import IPython.core.display as di\n",
    "di.display_html('<script>jQuery(function() {if (jQuery(\"body.notebook_app\").length == 0) { jQuery(\".input_area\").toggle(); jQuery(\".prompt\").toggle();}});</script>', raw=True)\n",
    "di.display_html('''<button onclick=\"jQuery('.input_area').toggle(); jQuery('.prompt').toggle();\">Toggle code</button>''', raw=True)\n",
    "import sys\n",
    "import math\n",
    "sys.path.append(\"../tools/\")\n",
    "import pickle\n",
    "import pandas as pd\n",
    "import numpy as np\n",
    "import matplotlib.pyplot as plt\n",
    "import seaborn as sns\n",
    "from tester import dump_classifier_and_data, test_classifier\n",
    "from feature_format import featureFormat, targetFeatureSplit"
   ]
  },
  {
   "cell_type": "markdown",
   "metadata": {},
   "source": [
    "### Available Data\n",
    "In this financial information dataset of Enron employees there are 146 entries with 21 features each, including POI. The email address feature is neither indicator of dimension or categorical and will be removed in feature selection.\n"
   ]
  },
  {
   "cell_type": "code",
   "execution_count": null,
   "metadata": {},
   "outputs": [],
   "source": [
    "with open(\"final_project_dataset.pkl\", \"r\") as data_file:\n",
    "    data_dict = pickle.load(data_file)\n",
    "\n",
    "available_features=[]\n",
    "\n",
    "for people, k in data_dict.iteritems():\n",
    "    for key, value in k.iteritems():\n",
    "        if key not in available_features:\n",
    "            available_features.append(key)\n",
    "print 'Number of employees in dataset:', len(data_dict),'\\n'\n",
    "print 'Number of Features in dataset:',len(available_features)\\\n",
    ",'\\ncomprised of:\\n', available_features,'\\n'\n",
    "\n",
    "print 'POI''s: ', sum([1 for p in data_dict if data_dict[p]['poi']==True]), \\\n",
    "'NonPOI''s:', sum([1 for p in data_dict if data_dict[p]['poi']==False]), '\\n'\n",
    "\n",
    "def count_unique_and_null(dictionary):\n",
    "    feature_summary = []\n",
    "    for feature in [f for f in available_features if f!='poi']:\n",
    "        entry_unique= []\n",
    "        nan_count = 0\n",
    "        for entry in dictionary:\n",
    "            if dictionary[entry][feature] == 'NaN':\n",
    "                nan_count += 1\n",
    "            elif dictionary[entry][feature] not in entry_unique and dictionary[entry][feature] !='NaN' :\n",
    "                entry_unique.append(entry)\n",
    "        feature_summary.append({'feature':feature\n",
    "                                ,'unique count':len(entry_unique)\n",
    "                                ,'nans': nan_count})\n",
    "    return feature_summary\n",
    "\n",
    "df = pd.DataFrame(count_unique_and_null(data_dict))\n",
    "print 'NaN / Unique Values'\n",
    "print df.sort_values(by = 'nans', ascending = False)\n",
    "\n"
   ]
  },
  {
   "cell_type": "markdown",
   "metadata": {},
   "source": [
    "### Outliers\n",
    "As detailed below, Eugene Lockhart, seems to have 'Nan' as values for each feature type. Further visual inspection below of the keys of each feature list indicates that there are two other employees in this list that do not seem to have names that are consistent with the format: LASTNAME FIRSTNAME MI and will be removed from the dataset."
   ]
  },
  {
   "cell_type": "code",
   "execution_count": null,
   "metadata": {},
   "outputs": [],
   "source": [
    "#Identify and Remove outliers\n",
    "\n",
    "#find employees with nan for all data\n",
    "all_nan = []\n",
    "for person, features in data_dict.items():\n",
    "    notNaN = False\n",
    "    for feature, val in features.items():\n",
    "        if feature != 'poi':\n",
    "            if val != 'NaN':\n",
    "                notNaN = True\n",
    "                break\n",
    "    if not notNaN:\n",
    "        all_nan.append(person)\n",
    "print 'Users with all ''NaN'' data', all_nan\n"
   ]
  },
  {
   "cell_type": "code",
   "execution_count": null,
   "metadata": {
    "scrolled": false
   },
   "outputs": [],
   "source": [
    "#Examine people in the data_dict to find names that do not resemble employees:\n",
    "people = sorted(list(data_dict.keys()))\n",
    "c1 = pd.Series(people[0:30])\n",
    "c2 = pd.Series(people[30:60])\n",
    "c3 = pd.Series(people[60:90])\n",
    "c4 = pd.Series(people[90:120])\n",
    "c5 = pd.Series(people[120:])\n",
    "columns = pd.DataFrame({' ':c1, '  ':c2, '   ':c3, '    ':c4, '     ':c5})\n",
    "#format nan values for printing list columnwise to display\n",
    "columns = columns.replace(np.nan, '', regex=True)\n",
    "#highlight suspicious entries that do not resemble employee names \n",
    "#or employees with all NaN data\n",
    "def highlight_vals(val, color='green'):\n",
    "    if val in ['TOTAL','THE TRAVEL AGENCY IN THE PARK','LOCKHART EUGENE E']:\n",
    "        return 'background-color: %s' % color\n",
    "    else:\n",
    "        return ''\n",
    "columns.style.applymap(highlight_vals, subset=[' ', '  ', '   ','    ', '     '])"
   ]
  },
  {
   "cell_type": "code",
   "execution_count": null,
   "metadata": {
    "collapsed": true
   },
   "outputs": [],
   "source": [
    "#Remove people identified above\n",
    "for person in ['TOTAL','THE TRAVEL AGENCY IN THE PARK','LOCKHART EUGENE E']:\n",
    "    data_dict.pop(person)\n"
   ]
  },
  {
   "cell_type": "markdown",
   "metadata": {},
   "source": [
    "### Creating New Features\n",
    "As the chart of nans indicates above a high percentage of 'loan_advances', 'director_fees', 'restricted_stock_deferred', 'deferral_payments', and 'deferred_income' are null. I will remove these from consideration and limit analysis to the remaining features, with the exception of email. As discussed, email_address is neither categorical or numerically indictative of information that should be useful in any capacity to this investigation unless it was needed as a unique identifier for each employee in the event we were not provided with a name key.\n",
    "\n",
    "In an effort to provide some perspective I will add two features that should help normalize communication between a person in the data set and a person of interest. Ratios of email from a poi / to a poi and the total emails sent and recieved will be created. Interestingly, all of Gene Humphrey's sent emails are to POI's. "
   ]
  },
  {
   "cell_type": "code",
   "execution_count": 223,
   "metadata": {
    "collapsed": true
   },
   "outputs": [],
   "source": [
    "def computeRatio( poi_messages, all_messages ):\n",
    "    if not math.isnan(float(poi_messages)) and not math.isnan(float(all_messages)):\n",
    "        fraction = round(float(poi_messages)/float(all_messages),3)\n",
    "    else:\n",
    "        fraction =0\n",
    "    return fraction\n",
    "\n",
    "for person in data_dict:\n",
    "    from_poi = data_dict[person]['from_poi_to_this_person']\n",
    "    total_inbox = data_dict[person]['to_messages']\n",
    "    to_poi = data_dict[person]['from_this_person_to_poi']\n",
    "    total_outbox = data_dict[person]['from_messages']\n",
    "    \n",
    "    data_dict[person]['ratio_from_poi'] = computeRatio( from_poi, total_inbox )\n",
    "    data_dict[person]['ratio_to_poi']  = computeRatio( to_poi, total_outbox )\n",
    "\n",
    "features_list = [ 'poi','salary','to_messages','total_payments','exercised_stock_options'\n",
    "                 ,'bonus','restricted_stock','shared_receipt_with_poi','total_stock_value'\n",
    "                 ,'expenses','from_messages','other','from_this_person_to_poi'\n",
    "                 ,'long_term_incentive','from_poi_to_this_person','ratio_from_poi'\n",
    "                 ,'ratio_to_poi']\n",
    "\n",
    "my_dataset = data_dict\n",
    "\n",
    "# ### Extract features and labels from dataset for local testing\n",
    "data = featureFormat(data_dict, features_list)\n",
    "labels, features = targetFeatureSplit(data)"
   ]
  },
  {
   "cell_type": "code",
   "execution_count": 224,
   "metadata": {},
   "outputs": [
    {
     "name": "stdout",
     "output_type": "stream",
     "text": [
      "max to poi ratio:  1.0\n",
      "max from poi ratio:  0.217\n",
      "Person with 100% emails sent to POI ['HUMPHREY GENE E']\n"
     ]
    },
    {
     "data": {
      "image/png": "[encoded data removed]",
      "text/plain": [
       "<matplotlib.figure.Figure at 0x1164b0310>"
      ]
     },
     "metadata": {},
     "output_type": "display_data"
    }
   ],
   "source": [
    "print 'max to poi ratio: ', max([data_dict[p]['ratio_to_poi'] for p in data_dict])\n",
    "print 'max from poi ratio: ', max([data_dict[p]['ratio_from_poi'] for p in data_dict])\n",
    "print 'Person with 100% emails sent to POI',[p for p in data_dict if data_dict[p]['ratio_to_poi']==1.]\n",
    "\n",
    "ratiosdf = pd.DataFrame(data)\n",
    "ratiosdf.columns = features_list\n",
    "\n",
    "plt.scatter(ratiosdf.ratio_to_poi, ratiosdf.ratio_from_poi\n",
    "            , s=ratiosdf.from_this_person_to_poi+ratiosdf.from_poi_to_this_person\n",
    "            , alpha=0.5)\n",
    "\n",
    "plt.legend(ratiosdf.from_this_person_to_poi+ratiosdf.from_poi_to_this_person)\n",
    "plt.title('From POI vs To POI ratios\\nby Total emails with POI')\n",
    "plt.xlabel('ratio to poi')\n",
    "plt.ylabel('ratio from poi')\n",
    "plt.show()"
   ]
  },
  {
   "cell_type": "markdown",
   "metadata": {},
   "source": [
    "### Selecting features with Select K Best\n",
    "Select K Best will be utilized below to limit the number of features evaluated in various algorithms. Scores for each feature will indicate which features contribute the most to an evaluation of POI."
   ]
  },
  {
   "cell_type": "code",
   "execution_count": 225,
   "metadata": {},
   "outputs": [
    {
     "data": {
      "text/plain": [
       "exercised_stock_options    24.82\n",
       "total_stock_value          24.18\n",
       "bonus                      20.79\n",
       "salary                     18.29\n",
       "ratio_to_poi               16.41\n",
       "long_term_incentive         9.92\n",
       "restricted_stock            9.21\n",
       "total_payments              8.77\n",
       "shared_receipt_with_poi     8.59\n",
       "expenses                    6.09\n",
       "from_poi_to_this_person     5.24\n",
       "other                       4.19\n",
       "ratio_from_poi              3.15\n",
       "dtype: float64"
      ]
     },
     "execution_count": 225,
     "metadata": {},
     "output_type": "execute_result"
    }
   ],
   "source": [
    "from sklearn.feature_selection import SelectKBest\n",
    "from sklearn.naive_bayes import GaussianNB\n",
    "from sklearn.pipeline import Pipeline\n",
    "\n",
    "kbest = SelectKBest(k = 13)\n",
    "gaus = GaussianNB()\n",
    "pipeline = Pipeline(steps = [('kbest', kbest), ('gaus', gaus)])\n",
    "pipeline.fit(features, labels)\n",
    "\n",
    "#Get Index for kbest\n",
    "kbest_index = kbest.get_support(indices = True)\n",
    "\n",
    "#add scores to dictionary with feature names as keys\n",
    "scores = {}\n",
    "for i in kbest_index:\n",
    "    scores[features_list[i + 1]] = round(kbest.scores_[i],2)\n",
    "\n",
    "#print ordered scores\n",
    "selected_features = scores.keys()\n",
    "selected_features.insert(0, 'poi')\n",
    "pd.Series(scores).sort_values(ascending = False)"
   ]
  },
  {
   "cell_type": "markdown",
   "metadata": {},
   "source": [
    "Feature scaling will not be implemented since I will not be performing PCA, the algorithms evaluated below, including decition trees, random forrest, and naive bayes wouldn't benifit from PCA anyway since each evaluates features individually. For Logistic regression, tuning with the C and penalty parameters can mitigate feature regularization."
   ]
  },
  {
   "cell_type": "markdown",
   "metadata": {},
   "source": [
    "### Algorithm Selection and Evaluation"
   ]
  },
  {
   "cell_type": "code",
   "execution_count": 304,
   "metadata": {
    "collapsed": true
   },
   "outputs": [],
   "source": [
    "from sklearn.metrics import accuracy_score, classification_report\n",
    "from sklearn.cross_validation import StratifiedShuffleSplit\n",
    "from sklearn.metrics import accuracy_score\n",
    "from sklearn.metrics import precision_score\n",
    "from sklearn.metrics import recall_score\n",
    "from sklearn.metrics import f1_score\n",
    "from sklearn.metrics import precision_recall_fscore_support\n",
    "from sklearn.metrics import confusion_matrix\n",
    "\n",
    "my_data = featureFormat(data_dict, selected_features)\n",
    "labels, features = targetFeatureSplit(my_data)\n",
    "#Create testing and training folds for more homogenous training and test datasets\n",
    "cv = StratifiedShuffleSplit(labels, 2000, random_state = 42)\n",
    "for train_idx, test_idx in cv: \n",
    "    features_train = []\n",
    "    features_test  = []\n",
    "    labels_train   = []\n",
    "    labels_test    = []\n",
    "    for ii in train_idx:\n",
    "        features_train.append( features[ii] )\n",
    "        labels_train.append( labels[ii] )\n",
    "    for jj in test_idx:\n",
    "        features_test.append( features[jj] )\n",
    "        labels_test.append( labels[jj] )\n",
    "def modelScoring(pred, test_labels):\n",
    "    accuracy = accuracy_score(pred, test_labels)\n",
    "    precision = precision_score(pred, test_labels)\n",
    "    recall = recall_score(pred, test_labels)\n",
    "    f1 = f1_score(pred, test_labels)\n",
    "    confusion = confusion_matrix(pred, test_labels)\n",
    "    \n",
    "    scores = {'Accuracy': accuracy\n",
    "              ,'Precision': precision \n",
    "              ,'Recall': recall \n",
    "              ,'F_Score': f1\n",
    "              ,'Num of Predictions':len(test_labels)\n",
    "              ,'True positives': confusion[1,1]\n",
    "              ,'True negatives': confusion[0,0]\n",
    "              ,'False positives': confusion[0,1]\n",
    "              ,'False negatives': confusion[1,0]\n",
    "              }\n",
    "    return scores\n",
    "\n",
    "def finalScores(scores):\n",
    "    cols = ['Accuracy','Precision','Recall','F_Score','Num of Predictions','True positives','False positives','False negatives','True negatives']\n",
    "    final_scores = pd.DataFrame(scores,cols).transpose()\n",
    "    final_scores = final_scores.sort_values('F_Score',ascending=False)\n",
    "    return final_scores"
   ]
  },
  {
   "cell_type": "code",
   "execution_count": 305,
   "metadata": {
    "collapsed": true
   },
   "outputs": [],
   "source": [
    "#Naive Bayes\n",
    "from sklearn.naive_bayes import GaussianNB\n",
    "clf_nb = GaussianNB()\n",
    "clf_nb.fit(features_train,labels_train)\n",
    "pred_nb = clf_nb.predict(features_test)\n",
    "nb_scores = modelScoring(pred_nb, labels_test)"
   ]
  },
  {
   "cell_type": "code",
   "execution_count": 306,
   "metadata": {
    "collapsed": true
   },
   "outputs": [],
   "source": [
    "#Dtree\n",
    "from sklearn.tree import DecisionTreeClassifier\n",
    "clf_dt = DecisionTreeClassifier()\n",
    "clf_dt.fit(features_train,labels_train)\n",
    "pred_dt = clf_dt.predict(features_test)\n",
    "dt_scores = modelScoring(pred_dt, labels_test)"
   ]
  },
  {
   "cell_type": "code",
   "execution_count": 307,
   "metadata": {
    "collapsed": true
   },
   "outputs": [],
   "source": [
    "#Logistic Regression\n",
    "from sklearn.linear_model import LogisticRegression\n",
    "clf_lr= LogisticRegression()\n",
    "clf_lr.fit(features_train,labels_train)\n",
    "pred_lr = clf_lr.predict(features_test)\n",
    "lr_scores = modelScoring(pred_lr, labels_test)"
   ]
  },
  {
   "cell_type": "code",
   "execution_count": 308,
   "metadata": {
    "collapsed": true
   },
   "outputs": [],
   "source": [
    "#RandomForestClassifier\n",
    "from sklearn.ensemble import RandomForestClassifier\n",
    "clf_rfc = RandomForestClassifier(n_estimators = 500, n_jobs = -1)\n",
    "clf_rfc.fit(features_train, labels_train)\n",
    "pred_rfc = clf_rfc.predict(features_test)\n",
    "rfc_scores = modelScoring(pred_rfc, labels_test)"
   ]
  },
  {
   "cell_type": "code",
   "execution_count": 309,
   "metadata": {},
   "outputs": [
    {
     "data": {
      "text/html": [
       "<div>\n",
       "<style>\n",
       "    .dataframe thead tr:only-child th {\n",
       "        text-align: right;\n",
       "    }\n",
       "\n",
       "    .dataframe thead th {\n",
       "        text-align: left;\n",
       "    }\n",
       "\n",
       "    .dataframe tbody tr th {\n",
       "        vertical-align: top;\n",
       "    }\n",
       "</style>\n",
       "<table border=\"1\" class=\"dataframe\">\n",
       "  <thead>\n",
       "    <tr style=\"text-align: right;\">\n",
       "      <th></th>\n",
       "      <th>Accuracy</th>\n",
       "      <th>Precision</th>\n",
       "      <th>Recall</th>\n",
       "      <th>F_Score</th>\n",
       "      <th>Num of Predictions</th>\n",
       "      <th>True positives</th>\n",
       "      <th>False positives</th>\n",
       "      <th>False negatives</th>\n",
       "      <th>True negatives</th>\n",
       "    </tr>\n",
       "  </thead>\n",
       "  <tbody>\n",
       "    <tr>\n",
       "      <th>Random Forest</th>\n",
       "      <td>1.000000</td>\n",
       "      <td>1.0</td>\n",
       "      <td>1.000000</td>\n",
       "      <td>1.00</td>\n",
       "      <td>15.0</td>\n",
       "      <td>2.0</td>\n",
       "      <td>0.0</td>\n",
       "      <td>0.0</td>\n",
       "      <td>13.0</td>\n",
       "    </tr>\n",
       "    <tr>\n",
       "      <th>Naive Bayes</th>\n",
       "      <td>0.866667</td>\n",
       "      <td>0.5</td>\n",
       "      <td>0.500000</td>\n",
       "      <td>0.50</td>\n",
       "      <td>15.0</td>\n",
       "      <td>1.0</td>\n",
       "      <td>1.0</td>\n",
       "      <td>1.0</td>\n",
       "      <td>12.0</td>\n",
       "    </tr>\n",
       "    <tr>\n",
       "      <th>Logistic Reg</th>\n",
       "      <td>0.600000</td>\n",
       "      <td>0.5</td>\n",
       "      <td>0.166667</td>\n",
       "      <td>0.25</td>\n",
       "      <td>15.0</td>\n",
       "      <td>1.0</td>\n",
       "      <td>1.0</td>\n",
       "      <td>5.0</td>\n",
       "      <td>8.0</td>\n",
       "    </tr>\n",
       "    <tr>\n",
       "      <th>Decision Tree</th>\n",
       "      <td>0.800000</td>\n",
       "      <td>0.0</td>\n",
       "      <td>0.000000</td>\n",
       "      <td>0.00</td>\n",
       "      <td>15.0</td>\n",
       "      <td>0.0</td>\n",
       "      <td>2.0</td>\n",
       "      <td>1.0</td>\n",
       "      <td>12.0</td>\n",
       "    </tr>\n",
       "  </tbody>\n",
       "</table>\n",
       "</div>"
      ],
      "text/plain": [
       "               Accuracy  Precision    Recall  F_Score  Num of Predictions  \\\n",
       "Random Forest  1.000000        1.0  1.000000     1.00                15.0   \n",
       "Naive Bayes    0.866667        0.5  0.500000     0.50                15.0   \n",
       "Logistic Reg   0.600000        0.5  0.166667     0.25                15.0   \n",
       "Decision Tree  0.800000        0.0  0.000000     0.00                15.0   \n",
       "\n",
       "               True positives  False positives  False negatives  \\\n",
       "Random Forest             2.0              0.0              0.0   \n",
       "Naive Bayes               1.0              1.0              1.0   \n",
       "Logistic Reg              1.0              1.0              5.0   \n",
       "Decision Tree             0.0              2.0              1.0   \n",
       "\n",
       "               True negatives  \n",
       "Random Forest            13.0  \n",
       "Naive Bayes              12.0  \n",
       "Logistic Reg              8.0  \n",
       "Decision Tree            12.0  "
      ]
     },
     "execution_count": 309,
     "metadata": {},
     "output_type": "execute_result"
    }
   ],
   "source": [
    "scores = {'Naive Bayes': nb_scores\n",
    "           ,'Decision Tree': dt_scores\n",
    "           ,'Logistic Reg': lr_scores\n",
    "           ,'Random Forest': rfc_scores}\n",
    "finalScores(scores)"
   ]
  },
  {
   "cell_type": "markdown",
   "metadata": {},
   "source": [
    "Logistic regression seems to be the algorithm with the best parameters for tuning in this case. It also happens to have parameters that will mitigate feature scaling issues. It also seems to be slightly worse than Naive Bayes in recall. Random Forest appears to be overfit with no parameters set. \n",
    "I will tune Logistic regression to see if I can enhance its performance."
   ]
  },
  {
   "cell_type": "markdown",
   "metadata": {
    "collapsed": true
   },
   "source": [
    "### Algorithm Tuning\n",
    "\n",
    "Parameters in machine learning algorithms can change how the behavior handles the features. Tuning refers to either manually, or programatically changing these parameters to enhance prediction performance. Untuned algorithms can provide some insite into data but should never be the end of the investigation. \n",
    "\n",
    "For Logistic Regression I will be tuning with the following parameters:\n",
    "    \n",
    "- max_iter: limits the number of iterations before each solver converges\n",
    "    \n",
    "- penalty: specifies the norm used in penalization with solvers \n",
    "    \n",
    "- C: represents the inverse of regularization strength. smaller values specify stronger regularization"
   ]
  },
  {
   "cell_type": "code",
   "execution_count": 310,
   "metadata": {
    "collapsed": true,
    "scrolled": false
   },
   "outputs": [],
   "source": [
    "from sklearn.model_selection import GridSearchCV\n",
    "lr = LogisticRegression(n_jobs = -1)\n",
    "parameters = {'max_iter':range(20, 150)\n",
    "              ,'penalty' : ('l1', 'l2')\n",
    "              ,'C': (.1,.2,.3) \n",
    "              #,.4,.5,.6,.7,.8,.9,1.) these values were also tested but .2 was selected \n",
    "             }\n",
    "lr_grid = GridSearchCV(lr, parameters, n_jobs = -1)\n",
    "lr_grid.fit(features_train, labels_train)\n",
    "\n",
    "pred_lr_grid = lr_grid.predict(features_test)\n",
    "logistic_reg_tuned = modelScoring(pred_lr_grid, labels_test)"
   ]
  },
  {
   "cell_type": "code",
   "execution_count": 311,
   "metadata": {},
   "outputs": [
    {
     "data": {
      "text/html": [
       "<div>\n",
       "<style>\n",
       "    .dataframe thead tr:only-child th {\n",
       "        text-align: right;\n",
       "    }\n",
       "\n",
       "    .dataframe thead th {\n",
       "        text-align: left;\n",
       "    }\n",
       "\n",
       "    .dataframe tbody tr th {\n",
       "        vertical-align: top;\n",
       "    }\n",
       "</style>\n",
       "<table border=\"1\" class=\"dataframe\">\n",
       "  <thead>\n",
       "    <tr style=\"text-align: right;\">\n",
       "      <th></th>\n",
       "      <th>Accuracy</th>\n",
       "      <th>Precision</th>\n",
       "      <th>Recall</th>\n",
       "      <th>F_Score</th>\n",
       "      <th>Num of Predictions</th>\n",
       "      <th>True positives</th>\n",
       "      <th>False positives</th>\n",
       "      <th>False negatives</th>\n",
       "      <th>True negatives</th>\n",
       "    </tr>\n",
       "  </thead>\n",
       "  <tbody>\n",
       "    <tr>\n",
       "      <th>Logistic Reg Tuned</th>\n",
       "      <td>0.933333</td>\n",
       "      <td>0.5</td>\n",
       "      <td>1.000000</td>\n",
       "      <td>0.666667</td>\n",
       "      <td>15.0</td>\n",
       "      <td>1.0</td>\n",
       "      <td>1.0</td>\n",
       "      <td>0.0</td>\n",
       "      <td>13.0</td>\n",
       "    </tr>\n",
       "    <tr>\n",
       "      <th>Logistic Reg Untuned</th>\n",
       "      <td>0.600000</td>\n",
       "      <td>0.5</td>\n",
       "      <td>0.166667</td>\n",
       "      <td>0.250000</td>\n",
       "      <td>15.0</td>\n",
       "      <td>1.0</td>\n",
       "      <td>1.0</td>\n",
       "      <td>5.0</td>\n",
       "      <td>8.0</td>\n",
       "    </tr>\n",
       "  </tbody>\n",
       "</table>\n",
       "</div>"
      ],
      "text/plain": [
       "                      Accuracy  Precision    Recall   F_Score  \\\n",
       "Logistic Reg Tuned    0.933333        0.5  1.000000  0.666667   \n",
       "Logistic Reg Untuned  0.600000        0.5  0.166667  0.250000   \n",
       "\n",
       "                      Num of Predictions  True positives  False positives  \\\n",
       "Logistic Reg Tuned                  15.0             1.0              1.0   \n",
       "Logistic Reg Untuned                15.0             1.0              1.0   \n",
       "\n",
       "                      False negatives  True negatives  \n",
       "Logistic Reg Tuned                0.0            13.0  \n",
       "Logistic Reg Untuned              5.0             8.0  "
      ]
     },
     "execution_count": 311,
     "metadata": {},
     "output_type": "execute_result"
    }
   ],
   "source": [
    "final_scores = {'Logistic Reg Tuned': logistic_reg_tuned\n",
    "           ,'Logistic Reg Untuned': lr_scores\n",
    "         }\n",
    "finalScores(final_scores)"
   ]
  },
  {
   "cell_type": "markdown",
   "metadata": {},
   "source": [
    "### Evaluation and Validation\n",
    "By splitting the data set into training and testing data we prevent overtuning an algorithm to the point that it has perfect prediction capablity on the existing data. This may seem like a success during testing but if that algorithm were put into practical use it would be very hard to validate that could generalize new data. \n",
    "\n",
    "Using StatifiedShuffleSplit we can fold limited datasets to emulate larger datasets. Although this strategy wouldn't be as benificial as having a larger dataset, it does provide an advantage over splitting the data proportionally. It also maintains the ratio between classes for each fold as the original data set providing an advantage of manually folding the data set with random slices.\n",
    "\n",
    "In conclusion, by tuning the Logistic Regression algorithm I was able to enhance accuracy, precision, recall and F score. The tuned algorithm's precision was %50, detailed by the true and false positives. It successfully predicted a POI that was actually a POI so the recall was %100 but over predicted someone that hadn't been identified as a POI. In this case of investigating possible POI's in the Enron Data, over predicting may actually be desireable, since it would only open that person to further investigation.\n",
    "\n",
    "Further investigation into actual email content may provide better insight into POI identification. The imbalance between identified persons of interest and non POI's may in the financial and email count data more unreliable than it should be."
   ]
  },
  {
   "cell_type": "code",
   "execution_count": 239,
   "metadata": {
    "collapsed": true
   },
   "outputs": [],
   "source": [
    "## Dump your classifier, dataset, and features_list so anyone can\n",
    "## check your results. You do not need to change anything below, but make sure\n",
    "## that the version of poi_id.py that you submit can be run on its own and\n",
    "## generates the necessary .pkl files for validating your results.\n",
    "clf = lr_grid\n",
    "dump_classifier_and_data(clf, my_dataset, features_list)"
   ]
  }
 ],
 "metadata": {
  "kernelspec": {
   "display_name": "Python 3",
   "language": "python",
   "name": "python3"
  },
  "language_info": {
   "codemirror_mode": {
    "name": "ipython",
    "version": 3
   },
   "file_extension": ".py",
   "mimetype": "text/x-python",
   "name": "python",
   "nbconvert_exporter": "python",
   "pygments_lexer": "ipython3",
   "version": "3.6.2"
  }
 },
 "nbformat": 4,
 "nbformat_minor": 2
}
