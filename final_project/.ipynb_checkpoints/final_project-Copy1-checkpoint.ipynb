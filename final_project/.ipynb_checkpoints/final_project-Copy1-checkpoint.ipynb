{
 "cells": [
  {
   "cell_type": "markdown",
   "metadata": {},
   "source": [
    "# Person of Interest Identification - Enron\n",
    "## Udacity - Introduction to Machine Learning\n",
    "### Wesley Scoggin\n",
    "**Purpose:** To Identify persons of interest (POI) utilizing machine learning techniques to evaluate email data published as part of the fraud investigation of Enron business practices in the early 2000's\n"
   ]
  },
  {
   "cell_type": "code",
   "execution_count": 4,
   "metadata": {},
   "outputs": [],
   "source": [
    "import sys\n",
    "import math\n",
    "sys.path.append(\"../tools/\")\n",
    "import pickle\n",
    "import pandas as pd\n",
    "import numpy as np\n",
    "import matplotlib.pyplot as plt\n",
    "from tester import dump_classifier_and_data, test_classifier\n",
    "from feature_format import featureFormat, targetFeatureSplit"
   ]
  },
  {
   "cell_type": "markdown",
   "metadata": {},
   "source": [
    "### Available Data\n",
    "In this financial information dataset of Enron employees there are 146 entries with 21 features each, including POI. The email address feature is neither indicator of dimension or categorical and will be removed in feature selection.\n"
   ]
  },
  {
   "cell_type": "code",
   "execution_count": 5,
   "metadata": {},
   "outputs": [
    {
     "name": "stdout",
     "output_type": "stream",
     "text": [
      "Number of employees in dataset: 146 \n",
      "\n",
      "Number of Features in dataset: 21 \n",
      "comprised of:\n",
      "['salary', 'to_messages', 'deferral_payments', 'total_payments', 'exercised_stock_options', 'bonus', 'restricted_stock', 'shared_receipt_with_poi', 'restricted_stock_deferred', 'total_stock_value', 'expenses', 'loan_advances', 'from_messages', 'other', 'from_this_person_to_poi', 'poi', 'director_fees', 'deferred_income', 'long_term_incentive', 'email_address', 'from_poi_to_this_person'] \n",
      "\n",
      "POIs:  18 NonPOIs: 128 \n",
      "\n",
      "NaN / Unique Values\n",
      "                      feature  nans  unique count\n",
      "11              loan_advances   142             4\n",
      "15              director_fees   129            17\n",
      "8   restricted_stock_deferred   128            18\n",
      "2           deferral_payments   107            39\n",
      "16            deferred_income    97            49\n",
      "17        long_term_incentive    80            66\n",
      "5                       bonus    64            82\n",
      "19    from_poi_to_this_person    60            86\n",
      "7     shared_receipt_with_poi    60            86\n",
      "14    from_this_person_to_poi    60            86\n",
      "1                 to_messages    60            86\n",
      "12              from_messages    60            86\n",
      "13                      other    53            93\n",
      "0                      salary    51            95\n",
      "10                   expenses    51            95\n",
      "4     exercised_stock_options    44           102\n",
      "6            restricted_stock    36           110\n",
      "18              email_address    35           111\n",
      "3              total_payments    21           125\n",
      "9           total_stock_value    20           126\n"
     ]
    }
   ],
   "source": [
    "with open(\"final_project_dataset.pkl\", \"r\") as data_file:\n",
    "    data_dict = pickle.load(data_file)\n",
    "\n",
    "available_features=[]\n",
    "\n",
    "for people, k in data_dict.iteritems():\n",
    "    for key, value in k.iteritems():\n",
    "        if key not in available_features:\n",
    "            available_features.append(key)\n",
    "print 'Number of employees in dataset:', len(data_dict),'\\n'\n",
    "print 'Number of Features in dataset:',len(available_features)\\\n",
    ",'\\ncomprised of:\\n', available_features,'\\n'\n",
    "\n",
    "print 'POI''s: ', sum([1 for p in data_dict if data_dict[p]['poi']==True]), \\\n",
    "'NonPOI''s:', sum([1 for p in data_dict if data_dict[p]['poi']==False]), '\\n'\n",
    "\n",
    "def count_unique_and_null(dictionary):\n",
    "    feature_summary = []\n",
    "    for feature in [f for f in available_features if f!='poi']:\n",
    "        entry_unique= []\n",
    "        nan_count = 0\n",
    "        for entry in dictionary:\n",
    "            if dictionary[entry][feature] == 'NaN':\n",
    "                nan_count += 1\n",
    "            elif dictionary[entry][feature] not in entry_unique and dictionary[entry][feature] !='NaN' :\n",
    "                entry_unique.append(entry)\n",
    "        feature_summary.append({'feature':feature\n",
    "                                ,'unique count':len(entry_unique)\n",
    "                                ,'nans': nan_count})\n",
    "    return feature_summary\n",
    "\n",
    "df = pd.DataFrame(count_unique_and_null(data_dict))\n",
    "print 'NaN / Unique Values'\n",
    "print df.sort_values(by = 'nans', ascending = False)\n",
    "\n"
   ]
  },
  {
   "cell_type": "markdown",
   "metadata": {},
   "source": [
    "The amount of data (146 employees with 21 features) is relatively small. When evaluating algorithms this small dataset will necesitate valuing precision and recall over accuracy. I can also conclude by the imbalance in poi's to non-pois the classes are highly imbalanced. To mitigate imbalancing testing data even further with non representative sampling StratifiedShuffleSplit cross validation methods will need to be employed when implementing machine learning algorithms. The advantage of such a small data set is that I can use a Grid search cv to tune the algorithm that is selected without causing unacceptable training time. \n",
    "\n",
    "Examination of null data is an important step. With deeper knowledge about a data set like the intentions of people compiling it, null may be replaced in numerical data for 0's if the analyst chooses. It can also provide a chance to look for improperly skewed data that may be affected by missing values. Conclusions may be made in error on data that doesn't actually indicate a pattern if its made on data with too many missing values."
   ]
  },
  {
   "cell_type": "markdown",
   "metadata": {},
   "source": [
    "### Outliers\n",
    "As detailed below, Eugene Lockhart, seems to have 'Nan' as values for each feature type. Further visual inspection below of the keys of each feature list indicates that there are two other employees in this list that do not seem to have names that are consistent with the format: LASTNAME FIRSTNAME MI and will be removed from the dataset."
   ]
  },
  {
   "cell_type": "code",
   "execution_count": 7,
   "metadata": {},
   "outputs": [
    {
     "name": "stdout",
     "output_type": "stream",
     "text": [
      "Users with all NaN data ['LOCKHART EUGENE E']\n"
     ]
    }
   ],
   "source": [
    "#Identify and Remove outliers\n",
    "\n",
    "#find employees with nan for all data\n",
    "all_nan = []\n",
    "for person, features in data_dict.items():\n",
    "    notNaN = False\n",
    "    for feature, val in features.items():\n",
    "        if feature != 'poi':\n",
    "            if val != 'NaN':\n",
    "                notNaN = True\n",
    "                break\n",
    "    if not notNaN:\n",
    "        all_nan.append(person)\n",
    "print 'Users with all ''NaN'' data', all_nan\n"
   ]
  },
  {
   "cell_type": "code",
   "execution_count": 8,
   "metadata": {
    "scrolled": false
   },
   "outputs": [
    {
     "data": {
      "text/html": [
       "<style  type=\"text/css\" >\n",
       "    #T_97cecf30_da56_11e7_b8a8_a45e60cb4acfrow7_col4 {\n",
       "            background-color:  green;\n",
       "        }    #T_97cecf30_da56_11e7_b8a8_a45e60cb4acfrow10_col4 {\n",
       "            background-color:  green;\n",
       "        }    #T_97cecf30_da56_11e7_b8a8_a45e60cb4acfrow24_col2 {\n",
       "            background-color:  green;\n",
       "        }</style>  \n",
       "<table id=\"T_97cecf30_da56_11e7_b8a8_a45e60cb4acf\" > \n",
       "<thead>    <tr> \n",
       "        <th class=\"blank level0\" ></th> \n",
       "        <th class=\"col_heading level0 col0\" > </th> \n",
       "        <th class=\"col_heading level0 col1\" >  </th> \n",
       "        <th class=\"col_heading level0 col2\" >   </th> \n",
       "        <th class=\"col_heading level0 col3\" >    </th> \n",
       "        <th class=\"col_heading level0 col4\" >     </th> \n",
       "    </tr></thead> \n",
       "<tbody>    <tr> \n",
       "        <th id=\"T_97cecf30_da56_11e7_b8a8_a45e60cb4acf\" class=\"row_heading level0 row0\" >0</th> \n",
       "        <td id=\"T_97cecf30_da56_11e7_b8a8_a45e60cb4acfrow0_col0\" class=\"data row0 col0\" >ALLEN PHILLIP K</td> \n",
       "        <td id=\"T_97cecf30_da56_11e7_b8a8_a45e60cb4acfrow0_col1\" class=\"data row0 col1\" >DEFFNER JOSEPH M</td> \n",
       "        <td id=\"T_97cecf30_da56_11e7_b8a8_a45e60cb4acfrow0_col2\" class=\"data row0 col2\" >HAUG DAVID L</td> \n",
       "        <td id=\"T_97cecf30_da56_11e7_b8a8_a45e60cb4acfrow0_col3\" class=\"data row0 col3\" >MCDONALD REBECCA</td> \n",
       "        <td id=\"T_97cecf30_da56_11e7_b8a8_a45e60cb4acfrow0_col4\" class=\"data row0 col4\" >SHERRICK JEFFREY B</td> \n",
       "    </tr>    <tr> \n",
       "        <th id=\"T_97cecf30_da56_11e7_b8a8_a45e60cb4acf\" class=\"row_heading level0 row1\" >1</th> \n",
       "        <td id=\"T_97cecf30_da56_11e7_b8a8_a45e60cb4acfrow1_col0\" class=\"data row1 col0\" >BADUM JAMES P</td> \n",
       "        <td id=\"T_97cecf30_da56_11e7_b8a8_a45e60cb4acfrow1_col1\" class=\"data row1 col1\" >DELAINEY DAVID W</td> \n",
       "        <td id=\"T_97cecf30_da56_11e7_b8a8_a45e60cb4acfrow1_col2\" class=\"data row1 col2\" >HAYES ROBERT E</td> \n",
       "        <td id=\"T_97cecf30_da56_11e7_b8a8_a45e60cb4acfrow1_col3\" class=\"data row1 col3\" >MCMAHON JEFFREY</td> \n",
       "        <td id=\"T_97cecf30_da56_11e7_b8a8_a45e60cb4acfrow1_col4\" class=\"data row1 col4\" >SHERRIFF JOHN R</td> \n",
       "    </tr>    <tr> \n",
       "        <th id=\"T_97cecf30_da56_11e7_b8a8_a45e60cb4acf\" class=\"row_heading level0 row2\" >2</th> \n",
       "        <td id=\"T_97cecf30_da56_11e7_b8a8_a45e60cb4acfrow2_col0\" class=\"data row2 col0\" >BANNANTINE JAMES M</td> \n",
       "        <td id=\"T_97cecf30_da56_11e7_b8a8_a45e60cb4acfrow2_col1\" class=\"data row2 col1\" >DERRICK JR. JAMES V</td> \n",
       "        <td id=\"T_97cecf30_da56_11e7_b8a8_a45e60cb4acfrow2_col2\" class=\"data row2 col2\" >HAYSLETT RODERICK J</td> \n",
       "        <td id=\"T_97cecf30_da56_11e7_b8a8_a45e60cb4acfrow2_col3\" class=\"data row2 col3\" >MENDELSOHN JOHN</td> \n",
       "        <td id=\"T_97cecf30_da56_11e7_b8a8_a45e60cb4acfrow2_col4\" class=\"data row2 col4\" >SKILLING JEFFREY K</td> \n",
       "    </tr>    <tr> \n",
       "        <th id=\"T_97cecf30_da56_11e7_b8a8_a45e60cb4acf\" class=\"row_heading level0 row3\" >3</th> \n",
       "        <td id=\"T_97cecf30_da56_11e7_b8a8_a45e60cb4acfrow3_col0\" class=\"data row3 col0\" >BAXTER JOHN C</td> \n",
       "        <td id=\"T_97cecf30_da56_11e7_b8a8_a45e60cb4acfrow3_col1\" class=\"data row3 col1\" >DETMERING TIMOTHY J</td> \n",
       "        <td id=\"T_97cecf30_da56_11e7_b8a8_a45e60cb4acfrow3_col2\" class=\"data row3 col2\" >HERMANN ROBERT J</td> \n",
       "        <td id=\"T_97cecf30_da56_11e7_b8a8_a45e60cb4acfrow3_col3\" class=\"data row3 col3\" >METTS MARK</td> \n",
       "        <td id=\"T_97cecf30_da56_11e7_b8a8_a45e60cb4acfrow3_col4\" class=\"data row3 col4\" >STABLER FRANK</td> \n",
       "    </tr>    <tr> \n",
       "        <th id=\"T_97cecf30_da56_11e7_b8a8_a45e60cb4acf\" class=\"row_heading level0 row4\" >4</th> \n",
       "        <td id=\"T_97cecf30_da56_11e7_b8a8_a45e60cb4acfrow4_col0\" class=\"data row4 col0\" >BAY FRANKLIN R</td> \n",
       "        <td id=\"T_97cecf30_da56_11e7_b8a8_a45e60cb4acfrow4_col1\" class=\"data row4 col1\" >DIETRICH JANET R</td> \n",
       "        <td id=\"T_97cecf30_da56_11e7_b8a8_a45e60cb4acfrow4_col2\" class=\"data row4 col2\" >HICKERSON GARY J</td> \n",
       "        <td id=\"T_97cecf30_da56_11e7_b8a8_a45e60cb4acfrow4_col3\" class=\"data row4 col3\" >MEYER JEROME J</td> \n",
       "        <td id=\"T_97cecf30_da56_11e7_b8a8_a45e60cb4acfrow4_col4\" class=\"data row4 col4\" >SULLIVAN-SHAKLOVITZ COLLEEN</td> \n",
       "    </tr>    <tr> \n",
       "        <th id=\"T_97cecf30_da56_11e7_b8a8_a45e60cb4acf\" class=\"row_heading level0 row5\" >5</th> \n",
       "        <td id=\"T_97cecf30_da56_11e7_b8a8_a45e60cb4acfrow5_col0\" class=\"data row5 col0\" >BAZELIDES PHILIP J</td> \n",
       "        <td id=\"T_97cecf30_da56_11e7_b8a8_a45e60cb4acfrow5_col1\" class=\"data row5 col1\" >DIMICHELE RICHARD G</td> \n",
       "        <td id=\"T_97cecf30_da56_11e7_b8a8_a45e60cb4acfrow5_col2\" class=\"data row5 col2\" >HIRKO JOSEPH</td> \n",
       "        <td id=\"T_97cecf30_da56_11e7_b8a8_a45e60cb4acfrow5_col3\" class=\"data row5 col3\" >MEYER ROCKFORD G</td> \n",
       "        <td id=\"T_97cecf30_da56_11e7_b8a8_a45e60cb4acfrow5_col4\" class=\"data row5 col4\" >SUNDE MARTIN</td> \n",
       "    </tr>    <tr> \n",
       "        <th id=\"T_97cecf30_da56_11e7_b8a8_a45e60cb4acf\" class=\"row_heading level0 row6\" >6</th> \n",
       "        <td id=\"T_97cecf30_da56_11e7_b8a8_a45e60cb4acfrow6_col0\" class=\"data row6 col0\" >BECK SALLY W</td> \n",
       "        <td id=\"T_97cecf30_da56_11e7_b8a8_a45e60cb4acfrow6_col1\" class=\"data row6 col1\" >DODSON KEITH</td> \n",
       "        <td id=\"T_97cecf30_da56_11e7_b8a8_a45e60cb4acfrow6_col2\" class=\"data row6 col2\" >HORTON STANLEY C</td> \n",
       "        <td id=\"T_97cecf30_da56_11e7_b8a8_a45e60cb4acfrow6_col3\" class=\"data row6 col3\" >MORAN MICHAEL P</td> \n",
       "        <td id=\"T_97cecf30_da56_11e7_b8a8_a45e60cb4acfrow6_col4\" class=\"data row6 col4\" >TAYLOR MITCHELL S</td> \n",
       "    </tr>    <tr> \n",
       "        <th id=\"T_97cecf30_da56_11e7_b8a8_a45e60cb4acf\" class=\"row_heading level0 row7\" >7</th> \n",
       "        <td id=\"T_97cecf30_da56_11e7_b8a8_a45e60cb4acfrow7_col0\" class=\"data row7 col0\" >BELDEN TIMOTHY N</td> \n",
       "        <td id=\"T_97cecf30_da56_11e7_b8a8_a45e60cb4acfrow7_col1\" class=\"data row7 col1\" >DONAHUE JR JEFFREY M</td> \n",
       "        <td id=\"T_97cecf30_da56_11e7_b8a8_a45e60cb4acfrow7_col2\" class=\"data row7 col2\" >HUGHES JAMES A</td> \n",
       "        <td id=\"T_97cecf30_da56_11e7_b8a8_a45e60cb4acfrow7_col3\" class=\"data row7 col3\" >MORDAUNT KRISTINA M</td> \n",
       "        <td id=\"T_97cecf30_da56_11e7_b8a8_a45e60cb4acfrow7_col4\" class=\"data row7 col4\" >THE TRAVEL AGENCY IN THE PARK</td> \n",
       "    </tr>    <tr> \n",
       "        <th id=\"T_97cecf30_da56_11e7_b8a8_a45e60cb4acf\" class=\"row_heading level0 row8\" >8</th> \n",
       "        <td id=\"T_97cecf30_da56_11e7_b8a8_a45e60cb4acfrow8_col0\" class=\"data row8 col0\" >BELFER ROBERT</td> \n",
       "        <td id=\"T_97cecf30_da56_11e7_b8a8_a45e60cb4acfrow8_col1\" class=\"data row8 col1\" >DUNCAN JOHN H</td> \n",
       "        <td id=\"T_97cecf30_da56_11e7_b8a8_a45e60cb4acfrow8_col2\" class=\"data row8 col2\" >HUMPHREY GENE E</td> \n",
       "        <td id=\"T_97cecf30_da56_11e7_b8a8_a45e60cb4acfrow8_col3\" class=\"data row8 col3\" >MULLER MARK S</td> \n",
       "        <td id=\"T_97cecf30_da56_11e7_b8a8_a45e60cb4acfrow8_col4\" class=\"data row8 col4\" >THORN TERENCE H</td> \n",
       "    </tr>    <tr> \n",
       "        <th id=\"T_97cecf30_da56_11e7_b8a8_a45e60cb4acf\" class=\"row_heading level0 row9\" >9</th> \n",
       "        <td id=\"T_97cecf30_da56_11e7_b8a8_a45e60cb4acfrow9_col0\" class=\"data row9 col0\" >BERBERIAN DAVID</td> \n",
       "        <td id=\"T_97cecf30_da56_11e7_b8a8_a45e60cb4acfrow9_col1\" class=\"data row9 col1\" >DURAN WILLIAM D</td> \n",
       "        <td id=\"T_97cecf30_da56_11e7_b8a8_a45e60cb4acfrow9_col2\" class=\"data row9 col2\" >IZZO LAWRENCE L</td> \n",
       "        <td id=\"T_97cecf30_da56_11e7_b8a8_a45e60cb4acfrow9_col3\" class=\"data row9 col3\" >MURRAY JULIA H</td> \n",
       "        <td id=\"T_97cecf30_da56_11e7_b8a8_a45e60cb4acfrow9_col4\" class=\"data row9 col4\" >TILNEY ELIZABETH A</td> \n",
       "    </tr>    <tr> \n",
       "        <th id=\"T_97cecf30_da56_11e7_b8a8_a45e60cb4acf\" class=\"row_heading level0 row10\" >10</th> \n",
       "        <td id=\"T_97cecf30_da56_11e7_b8a8_a45e60cb4acfrow10_col0\" class=\"data row10 col0\" >BERGSIEKER RICHARD P</td> \n",
       "        <td id=\"T_97cecf30_da56_11e7_b8a8_a45e60cb4acfrow10_col1\" class=\"data row10 col1\" >ECHOLS JOHN B</td> \n",
       "        <td id=\"T_97cecf30_da56_11e7_b8a8_a45e60cb4acfrow10_col2\" class=\"data row10 col2\" >JACKSON CHARLENE R</td> \n",
       "        <td id=\"T_97cecf30_da56_11e7_b8a8_a45e60cb4acfrow10_col3\" class=\"data row10 col3\" >NOLES JAMES L</td> \n",
       "        <td id=\"T_97cecf30_da56_11e7_b8a8_a45e60cb4acfrow10_col4\" class=\"data row10 col4\" >TOTAL</td> \n",
       "    </tr>    <tr> \n",
       "        <th id=\"T_97cecf30_da56_11e7_b8a8_a45e60cb4acf\" class=\"row_heading level0 row11\" >11</th> \n",
       "        <td id=\"T_97cecf30_da56_11e7_b8a8_a45e60cb4acfrow11_col0\" class=\"data row11 col0\" >BHATNAGAR SANJAY</td> \n",
       "        <td id=\"T_97cecf30_da56_11e7_b8a8_a45e60cb4acfrow11_col1\" class=\"data row11 col1\" >ELLIOTT STEVEN</td> \n",
       "        <td id=\"T_97cecf30_da56_11e7_b8a8_a45e60cb4acfrow11_col2\" class=\"data row11 col2\" >JAEDICKE ROBERT</td> \n",
       "        <td id=\"T_97cecf30_da56_11e7_b8a8_a45e60cb4acfrow11_col3\" class=\"data row11 col3\" >OLSON CINDY K</td> \n",
       "        <td id=\"T_97cecf30_da56_11e7_b8a8_a45e60cb4acfrow11_col4\" class=\"data row11 col4\" >UMANOFF ADAM S</td> \n",
       "    </tr>    <tr> \n",
       "        <th id=\"T_97cecf30_da56_11e7_b8a8_a45e60cb4acf\" class=\"row_heading level0 row12\" >12</th> \n",
       "        <td id=\"T_97cecf30_da56_11e7_b8a8_a45e60cb4acfrow12_col0\" class=\"data row12 col0\" >BIBI PHILIPPE A</td> \n",
       "        <td id=\"T_97cecf30_da56_11e7_b8a8_a45e60cb4acfrow12_col1\" class=\"data row12 col1\" >FALLON JAMES B</td> \n",
       "        <td id=\"T_97cecf30_da56_11e7_b8a8_a45e60cb4acfrow12_col2\" class=\"data row12 col2\" >KAMINSKI WINCENTY J</td> \n",
       "        <td id=\"T_97cecf30_da56_11e7_b8a8_a45e60cb4acfrow12_col3\" class=\"data row12 col3\" >OVERDYKE JR JERE C</td> \n",
       "        <td id=\"T_97cecf30_da56_11e7_b8a8_a45e60cb4acfrow12_col4\" class=\"data row12 col4\" >URQUHART JOHN A</td> \n",
       "    </tr>    <tr> \n",
       "        <th id=\"T_97cecf30_da56_11e7_b8a8_a45e60cb4acf\" class=\"row_heading level0 row13\" >13</th> \n",
       "        <td id=\"T_97cecf30_da56_11e7_b8a8_a45e60cb4acfrow13_col0\" class=\"data row13 col0\" >BLACHMAN JEREMY M</td> \n",
       "        <td id=\"T_97cecf30_da56_11e7_b8a8_a45e60cb4acfrow13_col1\" class=\"data row13 col1\" >FASTOW ANDREW S</td> \n",
       "        <td id=\"T_97cecf30_da56_11e7_b8a8_a45e60cb4acfrow13_col2\" class=\"data row13 col2\" >KEAN STEVEN J</td> \n",
       "        <td id=\"T_97cecf30_da56_11e7_b8a8_a45e60cb4acfrow13_col3\" class=\"data row13 col3\" >PAI LOU L</td> \n",
       "        <td id=\"T_97cecf30_da56_11e7_b8a8_a45e60cb4acfrow13_col4\" class=\"data row13 col4\" >WAKEHAM JOHN</td> \n",
       "    </tr>    <tr> \n",
       "        <th id=\"T_97cecf30_da56_11e7_b8a8_a45e60cb4acf\" class=\"row_heading level0 row14\" >14</th> \n",
       "        <td id=\"T_97cecf30_da56_11e7_b8a8_a45e60cb4acfrow14_col0\" class=\"data row14 col0\" >BLAKE JR. NORMAN P</td> \n",
       "        <td id=\"T_97cecf30_da56_11e7_b8a8_a45e60cb4acfrow14_col1\" class=\"data row14 col1\" >FITZGERALD JAY L</td> \n",
       "        <td id=\"T_97cecf30_da56_11e7_b8a8_a45e60cb4acfrow14_col2\" class=\"data row14 col2\" >KISHKILL JOSEPH G</td> \n",
       "        <td id=\"T_97cecf30_da56_11e7_b8a8_a45e60cb4acfrow14_col3\" class=\"data row14 col3\" >PEREIRA PAULO V. FERRAZ</td> \n",
       "        <td id=\"T_97cecf30_da56_11e7_b8a8_a45e60cb4acfrow14_col4\" class=\"data row14 col4\" >WALLS JR ROBERT H</td> \n",
       "    </tr>    <tr> \n",
       "        <th id=\"T_97cecf30_da56_11e7_b8a8_a45e60cb4acf\" class=\"row_heading level0 row15\" >15</th> \n",
       "        <td id=\"T_97cecf30_da56_11e7_b8a8_a45e60cb4acfrow15_col0\" class=\"data row15 col0\" >BOWEN JR RAYMOND M</td> \n",
       "        <td id=\"T_97cecf30_da56_11e7_b8a8_a45e60cb4acfrow15_col1\" class=\"data row15 col1\" >FOWLER PEGGY</td> \n",
       "        <td id=\"T_97cecf30_da56_11e7_b8a8_a45e60cb4acfrow15_col2\" class=\"data row15 col2\" >KITCHEN LOUISE</td> \n",
       "        <td id=\"T_97cecf30_da56_11e7_b8a8_a45e60cb4acfrow15_col3\" class=\"data row15 col3\" >PICKERING MARK R</td> \n",
       "        <td id=\"T_97cecf30_da56_11e7_b8a8_a45e60cb4acfrow15_col4\" class=\"data row15 col4\" >WALTERS GARETH W</td> \n",
       "    </tr>    <tr> \n",
       "        <th id=\"T_97cecf30_da56_11e7_b8a8_a45e60cb4acf\" class=\"row_heading level0 row16\" >16</th> \n",
       "        <td id=\"T_97cecf30_da56_11e7_b8a8_a45e60cb4acfrow16_col0\" class=\"data row16 col0\" >BROWN MICHAEL</td> \n",
       "        <td id=\"T_97cecf30_da56_11e7_b8a8_a45e60cb4acfrow16_col1\" class=\"data row16 col1\" >FOY JOE</td> \n",
       "        <td id=\"T_97cecf30_da56_11e7_b8a8_a45e60cb4acfrow16_col2\" class=\"data row16 col2\" >KOENIG MARK E</td> \n",
       "        <td id=\"T_97cecf30_da56_11e7_b8a8_a45e60cb4acfrow16_col3\" class=\"data row16 col3\" >PIPER GREGORY F</td> \n",
       "        <td id=\"T_97cecf30_da56_11e7_b8a8_a45e60cb4acfrow16_col4\" class=\"data row16 col4\" >WASAFF GEORGE</td> \n",
       "    </tr>    <tr> \n",
       "        <th id=\"T_97cecf30_da56_11e7_b8a8_a45e60cb4acf\" class=\"row_heading level0 row17\" >17</th> \n",
       "        <td id=\"T_97cecf30_da56_11e7_b8a8_a45e60cb4acfrow17_col0\" class=\"data row17 col0\" >BUCHANAN HAROLD G</td> \n",
       "        <td id=\"T_97cecf30_da56_11e7_b8a8_a45e60cb4acfrow17_col1\" class=\"data row17 col1\" >FREVERT MARK A</td> \n",
       "        <td id=\"T_97cecf30_da56_11e7_b8a8_a45e60cb4acfrow17_col2\" class=\"data row17 col2\" >KOPPER MICHAEL J</td> \n",
       "        <td id=\"T_97cecf30_da56_11e7_b8a8_a45e60cb4acfrow17_col3\" class=\"data row17 col3\" >PIRO JIM</td> \n",
       "        <td id=\"T_97cecf30_da56_11e7_b8a8_a45e60cb4acfrow17_col4\" class=\"data row17 col4\" >WESTFAHL RICHARD K</td> \n",
       "    </tr>    <tr> \n",
       "        <th id=\"T_97cecf30_da56_11e7_b8a8_a45e60cb4acf\" class=\"row_heading level0 row18\" >18</th> \n",
       "        <td id=\"T_97cecf30_da56_11e7_b8a8_a45e60cb4acfrow18_col0\" class=\"data row18 col0\" >BUTTS ROBERT H</td> \n",
       "        <td id=\"T_97cecf30_da56_11e7_b8a8_a45e60cb4acfrow18_col1\" class=\"data row18 col1\" >FUGH JOHN L</td> \n",
       "        <td id=\"T_97cecf30_da56_11e7_b8a8_a45e60cb4acfrow18_col2\" class=\"data row18 col2\" >LAVORATO JOHN J</td> \n",
       "        <td id=\"T_97cecf30_da56_11e7_b8a8_a45e60cb4acfrow18_col3\" class=\"data row18 col3\" >POWERS WILLIAM</td> \n",
       "        <td id=\"T_97cecf30_da56_11e7_b8a8_a45e60cb4acfrow18_col4\" class=\"data row18 col4\" >WHALEY DAVID A</td> \n",
       "    </tr>    <tr> \n",
       "        <th id=\"T_97cecf30_da56_11e7_b8a8_a45e60cb4acf\" class=\"row_heading level0 row19\" >19</th> \n",
       "        <td id=\"T_97cecf30_da56_11e7_b8a8_a45e60cb4acfrow19_col0\" class=\"data row19 col0\" >BUY RICHARD B</td> \n",
       "        <td id=\"T_97cecf30_da56_11e7_b8a8_a45e60cb4acfrow19_col1\" class=\"data row19 col1\" >GAHN ROBERT S</td> \n",
       "        <td id=\"T_97cecf30_da56_11e7_b8a8_a45e60cb4acfrow19_col2\" class=\"data row19 col2\" >LAY KENNETH L</td> \n",
       "        <td id=\"T_97cecf30_da56_11e7_b8a8_a45e60cb4acfrow19_col3\" class=\"data row19 col3\" >PRENTICE JAMES</td> \n",
       "        <td id=\"T_97cecf30_da56_11e7_b8a8_a45e60cb4acfrow19_col4\" class=\"data row19 col4\" >WHALLEY LAWRENCE G</td> \n",
       "    </tr>    <tr> \n",
       "        <th id=\"T_97cecf30_da56_11e7_b8a8_a45e60cb4acf\" class=\"row_heading level0 row20\" >20</th> \n",
       "        <td id=\"T_97cecf30_da56_11e7_b8a8_a45e60cb4acfrow20_col0\" class=\"data row20 col0\" >CALGER CHRISTOPHER F</td> \n",
       "        <td id=\"T_97cecf30_da56_11e7_b8a8_a45e60cb4acfrow20_col1\" class=\"data row20 col1\" >GARLAND C KEVIN</td> \n",
       "        <td id=\"T_97cecf30_da56_11e7_b8a8_a45e60cb4acfrow20_col2\" class=\"data row20 col2\" >LEFF DANIEL P</td> \n",
       "        <td id=\"T_97cecf30_da56_11e7_b8a8_a45e60cb4acfrow20_col3\" class=\"data row20 col3\" >REDMOND BRIAN L</td> \n",
       "        <td id=\"T_97cecf30_da56_11e7_b8a8_a45e60cb4acfrow20_col4\" class=\"data row20 col4\" >WHITE JR THOMAS E</td> \n",
       "    </tr>    <tr> \n",
       "        <th id=\"T_97cecf30_da56_11e7_b8a8_a45e60cb4acf\" class=\"row_heading level0 row21\" >21</th> \n",
       "        <td id=\"T_97cecf30_da56_11e7_b8a8_a45e60cb4acfrow21_col0\" class=\"data row21 col0\" >CARTER REBECCA C</td> \n",
       "        <td id=\"T_97cecf30_da56_11e7_b8a8_a45e60cb4acfrow21_col1\" class=\"data row21 col1\" >GATHMANN WILLIAM D</td> \n",
       "        <td id=\"T_97cecf30_da56_11e7_b8a8_a45e60cb4acfrow21_col2\" class=\"data row21 col2\" >LEMAISTRE CHARLES</td> \n",
       "        <td id=\"T_97cecf30_da56_11e7_b8a8_a45e60cb4acfrow21_col3\" class=\"data row21 col3\" >REYNOLDS LAWRENCE</td> \n",
       "        <td id=\"T_97cecf30_da56_11e7_b8a8_a45e60cb4acfrow21_col4\" class=\"data row21 col4\" >WINOKUR JR. HERBERT S</td> \n",
       "    </tr>    <tr> \n",
       "        <th id=\"T_97cecf30_da56_11e7_b8a8_a45e60cb4acf\" class=\"row_heading level0 row22\" >22</th> \n",
       "        <td id=\"T_97cecf30_da56_11e7_b8a8_a45e60cb4acfrow22_col0\" class=\"data row22 col0\" >CAUSEY RICHARD A</td> \n",
       "        <td id=\"T_97cecf30_da56_11e7_b8a8_a45e60cb4acfrow22_col1\" class=\"data row22 col1\" >GIBBS DANA R</td> \n",
       "        <td id=\"T_97cecf30_da56_11e7_b8a8_a45e60cb4acfrow22_col2\" class=\"data row22 col2\" >LEWIS RICHARD</td> \n",
       "        <td id=\"T_97cecf30_da56_11e7_b8a8_a45e60cb4acfrow22_col3\" class=\"data row22 col3\" >RICE KENNETH D</td> \n",
       "        <td id=\"T_97cecf30_da56_11e7_b8a8_a45e60cb4acfrow22_col4\" class=\"data row22 col4\" >WODRASKA JOHN</td> \n",
       "    </tr>    <tr> \n",
       "        <th id=\"T_97cecf30_da56_11e7_b8a8_a45e60cb4acf\" class=\"row_heading level0 row23\" >23</th> \n",
       "        <td id=\"T_97cecf30_da56_11e7_b8a8_a45e60cb4acfrow23_col0\" class=\"data row23 col0\" >CHAN RONNIE</td> \n",
       "        <td id=\"T_97cecf30_da56_11e7_b8a8_a45e60cb4acfrow23_col1\" class=\"data row23 col1\" >GILLIS JOHN</td> \n",
       "        <td id=\"T_97cecf30_da56_11e7_b8a8_a45e60cb4acfrow23_col2\" class=\"data row23 col2\" >LINDHOLM TOD A</td> \n",
       "        <td id=\"T_97cecf30_da56_11e7_b8a8_a45e60cb4acfrow23_col3\" class=\"data row23 col3\" >RIEKER PAULA H</td> \n",
       "        <td id=\"T_97cecf30_da56_11e7_b8a8_a45e60cb4acfrow23_col4\" class=\"data row23 col4\" >WROBEL BRUCE</td> \n",
       "    </tr>    <tr> \n",
       "        <th id=\"T_97cecf30_da56_11e7_b8a8_a45e60cb4acf\" class=\"row_heading level0 row24\" >24</th> \n",
       "        <td id=\"T_97cecf30_da56_11e7_b8a8_a45e60cb4acfrow24_col0\" class=\"data row24 col0\" >CHRISTODOULOU DIOMEDES</td> \n",
       "        <td id=\"T_97cecf30_da56_11e7_b8a8_a45e60cb4acfrow24_col1\" class=\"data row24 col1\" >GLISAN JR BEN F</td> \n",
       "        <td id=\"T_97cecf30_da56_11e7_b8a8_a45e60cb4acfrow24_col2\" class=\"data row24 col2\" >LOCKHART EUGENE E</td> \n",
       "        <td id=\"T_97cecf30_da56_11e7_b8a8_a45e60cb4acfrow24_col3\" class=\"data row24 col3\" >SAVAGE FRANK</td> \n",
       "        <td id=\"T_97cecf30_da56_11e7_b8a8_a45e60cb4acfrow24_col4\" class=\"data row24 col4\" >YEAGER F SCOTT</td> \n",
       "    </tr>    <tr> \n",
       "        <th id=\"T_97cecf30_da56_11e7_b8a8_a45e60cb4acf\" class=\"row_heading level0 row25\" >25</th> \n",
       "        <td id=\"T_97cecf30_da56_11e7_b8a8_a45e60cb4acfrow25_col0\" class=\"data row25 col0\" >CLINE KENNETH W</td> \n",
       "        <td id=\"T_97cecf30_da56_11e7_b8a8_a45e60cb4acfrow25_col1\" class=\"data row25 col1\" >GOLD JOSEPH</td> \n",
       "        <td id=\"T_97cecf30_da56_11e7_b8a8_a45e60cb4acfrow25_col2\" class=\"data row25 col2\" >LOWRY CHARLES P</td> \n",
       "        <td id=\"T_97cecf30_da56_11e7_b8a8_a45e60cb4acfrow25_col3\" class=\"data row25 col3\" >SCRIMSHAW MATTHEW</td> \n",
       "        <td id=\"T_97cecf30_da56_11e7_b8a8_a45e60cb4acfrow25_col4\" class=\"data row25 col4\" >YEAP SOON</td> \n",
       "    </tr>    <tr> \n",
       "        <th id=\"T_97cecf30_da56_11e7_b8a8_a45e60cb4acf\" class=\"row_heading level0 row26\" >26</th> \n",
       "        <td id=\"T_97cecf30_da56_11e7_b8a8_a45e60cb4acfrow26_col0\" class=\"data row26 col0\" >COLWELL WESLEY</td> \n",
       "        <td id=\"T_97cecf30_da56_11e7_b8a8_a45e60cb4acfrow26_col1\" class=\"data row26 col1\" >GRAMM WENDY L</td> \n",
       "        <td id=\"T_97cecf30_da56_11e7_b8a8_a45e60cb4acfrow26_col2\" class=\"data row26 col2\" >MARTIN AMANDA K</td> \n",
       "        <td id=\"T_97cecf30_da56_11e7_b8a8_a45e60cb4acfrow26_col3\" class=\"data row26 col3\" >SHANKMAN JEFFREY A</td> \n",
       "        <td id=\"T_97cecf30_da56_11e7_b8a8_a45e60cb4acfrow26_col4\" class=\"data row26 col4\" ></td> \n",
       "    </tr>    <tr> \n",
       "        <th id=\"T_97cecf30_da56_11e7_b8a8_a45e60cb4acf\" class=\"row_heading level0 row27\" >27</th> \n",
       "        <td id=\"T_97cecf30_da56_11e7_b8a8_a45e60cb4acfrow27_col0\" class=\"data row27 col0\" >CORDES WILLIAM R</td> \n",
       "        <td id=\"T_97cecf30_da56_11e7_b8a8_a45e60cb4acfrow27_col1\" class=\"data row27 col1\" >GRAY RODNEY</td> \n",
       "        <td id=\"T_97cecf30_da56_11e7_b8a8_a45e60cb4acfrow27_col2\" class=\"data row27 col2\" >MCCARTY DANNY J</td> \n",
       "        <td id=\"T_97cecf30_da56_11e7_b8a8_a45e60cb4acfrow27_col3\" class=\"data row27 col3\" >SHAPIRO RICHARD S</td> \n",
       "        <td id=\"T_97cecf30_da56_11e7_b8a8_a45e60cb4acfrow27_col4\" class=\"data row27 col4\" ></td> \n",
       "    </tr>    <tr> \n",
       "        <th id=\"T_97cecf30_da56_11e7_b8a8_a45e60cb4acf\" class=\"row_heading level0 row28\" >28</th> \n",
       "        <td id=\"T_97cecf30_da56_11e7_b8a8_a45e60cb4acfrow28_col0\" class=\"data row28 col0\" >COX DAVID</td> \n",
       "        <td id=\"T_97cecf30_da56_11e7_b8a8_a45e60cb4acfrow28_col1\" class=\"data row28 col1\" >HAEDICKE MARK E</td> \n",
       "        <td id=\"T_97cecf30_da56_11e7_b8a8_a45e60cb4acfrow28_col2\" class=\"data row28 col2\" >MCCLELLAN GEORGE</td> \n",
       "        <td id=\"T_97cecf30_da56_11e7_b8a8_a45e60cb4acfrow28_col3\" class=\"data row28 col3\" >SHARP VICTORIA T</td> \n",
       "        <td id=\"T_97cecf30_da56_11e7_b8a8_a45e60cb4acfrow28_col4\" class=\"data row28 col4\" ></td> \n",
       "    </tr>    <tr> \n",
       "        <th id=\"T_97cecf30_da56_11e7_b8a8_a45e60cb4acf\" class=\"row_heading level0 row29\" >29</th> \n",
       "        <td id=\"T_97cecf30_da56_11e7_b8a8_a45e60cb4acfrow29_col0\" class=\"data row29 col0\" >CUMBERLAND MICHAEL S</td> \n",
       "        <td id=\"T_97cecf30_da56_11e7_b8a8_a45e60cb4acfrow29_col1\" class=\"data row29 col1\" >HANNON KEVIN P</td> \n",
       "        <td id=\"T_97cecf30_da56_11e7_b8a8_a45e60cb4acfrow29_col2\" class=\"data row29 col2\" >MCCONNELL MICHAEL S</td> \n",
       "        <td id=\"T_97cecf30_da56_11e7_b8a8_a45e60cb4acfrow29_col3\" class=\"data row29 col3\" >SHELBY REX</td> \n",
       "        <td id=\"T_97cecf30_da56_11e7_b8a8_a45e60cb4acfrow29_col4\" class=\"data row29 col4\" ></td> \n",
       "    </tr></tbody> \n",
       "</table> "
      ],
      "text/plain": [
       "<pandas.io.formats.style.Styler at 0x10d08c410>"
      ]
     },
     "execution_count": 8,
     "metadata": {},
     "output_type": "execute_result"
    }
   ],
   "source": [
    "#Examine people in the data_dict to find names that do not resemble employees:\n",
    "people = sorted(list(data_dict.keys()))\n",
    "c1 = pd.Series(people[0:30])\n",
    "c2 = pd.Series(people[30:60])\n",
    "c3 = pd.Series(people[60:90])\n",
    "c4 = pd.Series(people[90:120])\n",
    "c5 = pd.Series(people[120:])\n",
    "columns = pd.DataFrame({' ':c1, '  ':c2, '   ':c3, '    ':c4, '     ':c5})\n",
    "#format nan values for printing list columnwise to display\n",
    "columns = columns.replace(np.nan, '', regex=True)\n",
    "#highlight suspicious entries that do not resemble employee names \n",
    "#or employees with all NaN data\n",
    "def highlight_vals(val, color='green'):\n",
    "    if val in ['TOTAL','THE TRAVEL AGENCY IN THE PARK','LOCKHART EUGENE E']:\n",
    "        return 'background-color: %s' % color\n",
    "    else:\n",
    "        return ''\n",
    "columns.style.applymap(highlight_vals, subset=[' ', '  ', '   ','    ', '     '])"
   ]
  },
  {
   "cell_type": "code",
   "execution_count": 9,
   "metadata": {
    "collapsed": true
   },
   "outputs": [],
   "source": [
    "#Remove people identified above\n",
    "for person in ['TOTAL','THE TRAVEL AGENCY IN THE PARK','LOCKHART EUGENE E']:\n",
    "    data_dict.pop(person)\n"
   ]
  },
  {
   "cell_type": "markdown",
   "metadata": {},
   "source": [
    "### Creating New Features\n",
    "As the chart of nans indicates above a high percentage of 'loan_advances', 'director_fees', 'restricted_stock_deferred', 'deferral_payments', and 'deferred_income' are null. I will remove these from consideration and limit analysis to the remaining features, with the exception of email. As discussed, email_address is neither categorical or numerically indictative of information that should be useful in any capacity to this investigation unless it was needed as a unique identifier for each employee in the event we were not provided with a name key.\n",
    "\n",
    "In an effort to provide some perspective I will add two features that should help normalize communication between a person in the data set and a person of interest. Ratios of email from a poi / to a poi and the total emails sent and recieved will be created. Interestingly, all of Gene Humphrey's sent emails are to POI's. "
   ]
  },
  {
   "cell_type": "code",
   "execution_count": 10,
   "metadata": {
    "collapsed": true
   },
   "outputs": [],
   "source": [
    "def computeRatio( poi_messages, all_messages ):\n",
    "    if not math.isnan(float(poi_messages)) and not math.isnan(float(all_messages)):\n",
    "        fraction = round(float(poi_messages)/float(all_messages),3)\n",
    "    else:\n",
    "        fraction =0\n",
    "    return fraction\n",
    "\n",
    "for person in data_dict:\n",
    "    from_poi = data_dict[person]['from_poi_to_this_person']\n",
    "    total_inbox = data_dict[person]['to_messages']\n",
    "    to_poi = data_dict[person]['from_this_person_to_poi']\n",
    "    total_outbox = data_dict[person]['from_messages']\n",
    "    \n",
    "    data_dict[person]['ratio_from_poi'] = computeRatio( from_poi, total_inbox )\n",
    "    data_dict[person]['ratio_to_poi']  = computeRatio( to_poi, total_outbox )\n",
    "\n",
    "features_list = [ 'poi','salary','to_messages','total_payments','exercised_stock_options'\n",
    "                 ,'bonus','restricted_stock','shared_receipt_with_poi','total_stock_value'\n",
    "                 ,'expenses','from_messages','other','from_this_person_to_poi'\n",
    "                 ,'long_term_incentive','from_poi_to_this_person','ratio_from_poi'\n",
    "                 ,'ratio_to_poi']\n",
    "# features_list = ['poi','salary','bonus','long_term_incentive','deferred_income','deferral_payments','loan_advances','other','expenses','director_fees','exercised_stock_options','restricted_stock','restricted_stock_deferred','ratio_to_poi','ratio_from_poi']\n",
    "my_dataset = data_dict\n",
    "\n",
    "# ### Extract features and labels from dataset for local testing\n",
    "data = featureFormat(data_dict, features_list)\n",
    "labels, features = targetFeatureSplit(data)"
   ]
  },
  {
   "cell_type": "code",
   "execution_count": 11,
   "metadata": {},
   "outputs": [
    {
     "name": "stdout",
     "output_type": "stream",
     "text": [
      "max to poi ratio:  1.0\n",
      "max from poi ratio:  0.217\n",
      "Person with 100% emails sent to POI ['HUMPHREY GENE E']\n"
     ]
    },
    {
     "data": {
      "image/png": "[encoded data removed]",
      "text/plain": [
       "<matplotlib.figure.Figure at 0x10d04f210>"
      ]
     },
     "metadata": {},
     "output_type": "display_data"
    }
   ],
   "source": [
    "#Examine new Features\n",
    "print 'max to poi ratio: ', max([data_dict[p]['ratio_to_poi'] for p in data_dict])\n",
    "print 'max from poi ratio: ', max([data_dict[p]['ratio_from_poi'] for p in data_dict])\n",
    "print 'Person with 100% emails sent to POI',[p for p in data_dict if data_dict[p]['ratio_to_poi']==1.]\n",
    "\n",
    "ratiosdf = pd.DataFrame(data)\n",
    "ratiosdf.columns = features_list\n",
    "\n",
    "plt.scatter(ratiosdf.ratio_to_poi, ratiosdf.ratio_from_poi\n",
    "            , s=ratiosdf.from_this_person_to_poi+ratiosdf.from_poi_to_this_person\n",
    "            , alpha=0.5)\n",
    "\n",
    "plt.legend(ratiosdf.from_this_person_to_poi+ratiosdf.from_poi_to_this_person)\n",
    "plt.title('From POI vs To POI ratios\\nby Total emails with POI')\n",
    "plt.xlabel('ratio to poi')\n",
    "plt.ylabel('ratio from poi')\n",
    "plt.show()"
   ]
  },
  {
   "cell_type": "markdown",
   "metadata": {},
   "source": [
    "### Selecting features with Select K Best\n",
    "Select K Best will be utilized below to limit the number of features evaluated in various algorithms. Scores for each feature will indicate which features contribute the most to an evaluation of POI."
   ]
  },
  {
   "cell_type": "code",
   "execution_count": 12,
   "metadata": {},
   "outputs": [
    {
     "data": {
      "text/plain": [
       "exercised_stock_options    24.82\n",
       "total_stock_value          24.18\n",
       "bonus                      20.79\n",
       "salary                     18.29\n",
       "ratio_to_poi               16.41\n",
       "long_term_incentive         9.92\n",
       "restricted_stock            9.21\n",
       "total_payments              8.77\n",
       "shared_receipt_with_poi     8.59\n",
       "expenses                    6.09\n",
       "from_poi_to_this_person     5.24\n",
       "other                       4.19\n",
       "ratio_from_poi              3.15\n",
       "from_this_person_to_poi     2.38\n",
       "to_messages                 1.65\n",
       "from_messages               0.17\n",
       "dtype: float64"
      ]
     },
     "execution_count": 12,
     "metadata": {},
     "output_type": "execute_result"
    }
   ],
   "source": [
    "###Selecting Feautures to process with algorithms with Select K Best\n",
    "from sklearn.feature_selection import SelectKBest\n",
    "from sklearn.naive_bayes import GaussianNB\n",
    "from sklearn.pipeline import Pipeline\n",
    "def selectKbest(feat_count):\n",
    "    kbest = SelectKBest(k = feat_count)\n",
    "    gaus = GaussianNB()\n",
    "    pipeline = Pipeline(steps = [('kbest', kbest), ('gaus', gaus)])\n",
    "    pipeline.fit(features, labels)\n",
    "\n",
    "    #Get Index for kbest\n",
    "    kbest_index = kbest.get_support(indices = True)\n",
    "\n",
    "    #add scores to dictionary with feature names as keys\n",
    "    scores = {}\n",
    "    for i in kbest_index:\n",
    "        scores[features_list[i + 1]] = round(kbest.scores_[i],2)\n",
    "    \n",
    "    selected_features = scores.keys()\n",
    "    selected_features.insert(0, 'poi')\n",
    "    return selected_features, scores\n",
    "\n",
    "#For Now I'm scoring each feature, when tuning I'll loop through including additional features\n",
    "#allow me to see which combination produces the best accuracy, precision, recall and consequently f1 score\n",
    "selected_features, scores = selectKbest('all')\n",
    "#features_list = selected_features\n",
    "pd.Series(scores).sort_values(ascending = False)"
   ]
  },
  {
   "cell_type": "markdown",
   "metadata": {},
   "source": [
    "Feature scaling will not be implemented since I will not be performing PCA, the algorithms evaluated below, including decition trees, random forrest, and naive bayes wouldn't benifit from PCA anyway since each evaluates features individually. For Logistic regression, tuning with the C and penalty parameters can mitigate feature regularization."
   ]
  },
  {
   "cell_type": "markdown",
   "metadata": {},
   "source": [
    "### Algorithm Selection and Evaluation"
   ]
  },
  {
   "cell_type": "code",
   "execution_count": 13,
   "metadata": {
    "collapsed": true
   },
   "outputs": [],
   "source": [
    "from sklearn.metrics import accuracy_score, classification_report\n",
    "from sklearn.cross_validation import StratifiedShuffleSplit\n",
    "from sklearn.metrics import accuracy_score\n",
    "from sklearn.metrics import precision_score\n",
    "from sklearn.metrics import recall_score\n",
    "from sklearn.metrics import f1_score\n",
    "from sklearn.metrics import precision_recall_fscore_support\n",
    "from sklearn.metrics import confusion_matrix\n",
    "from sklearn.feature_selection import SelectKBest, f_classif\n",
    "from sklearn.pipeline import Pipeline\n",
    "from sklearn.pipeline import Pipeline\n",
    "from sklearn.preprocessing import MinMaxScaler\n",
    "\n",
    "def split_data(dataset, feature_list):\n",
    "    data = featureFormat(dataset, feature_list, sort_keys = True)\n",
    "    labels, features = targetFeatureSplit(data)\n",
    "    cv = StratifiedShuffleSplit(labels, 1000, random_state = 42)\n",
    "    true_negatives = 0\n",
    "    false_negatives = 0\n",
    "    true_positives = 0\n",
    "    false_positives = 0\n",
    "    for train_idx, test_idx in cv: \n",
    "        features_train = []\n",
    "        features_test  = []\n",
    "        labels_train   = []\n",
    "        labels_test    = []\n",
    "        for ii in train_idx:\n",
    "            features_train.append( features[ii] )\n",
    "            labels_train.append( labels[ii] )\n",
    "        for jj in test_idx:\n",
    "            features_test.append( features[jj] )\n",
    "            labels_test.append( labels[jj] )\n",
    "    return features_train, features_test, labels_train, labels_test\n",
    "\n",
    "#create testing and training features and labels with \n",
    "#all selected features first then try variety in tuning later.\n",
    "# features_train, features_test, labels_train, labels_test = split_data(data_dict, selected_features)        \n",
    "from sklearn.model_selection import train_test_split\n",
    "\n",
    "features_train, features_test, labels_train, labels_test = \\\n",
    "    train_test_split(features, labels, test_size=0.3, random_state=42)\n",
    "    \n",
    "def modelScoring(pred, test_labels):\n",
    "    accuracy = accuracy_score(pred, test_labels)\n",
    "    precision = precision_score(pred, test_labels)\n",
    "    recall = recall_score(pred, test_labels)\n",
    "    f1 = f1_score(pred, test_labels)\n",
    "    confusion = confusion_matrix(pred, test_labels)\n",
    "    \n",
    "    scores = {'Accuracy': accuracy\n",
    "              ,'Precision': precision \n",
    "              ,'Recall': recall \n",
    "              ,'F_Score': f1\n",
    "              ,'Num of Predictions':len(test_labels)\n",
    "              ,'True positives': confusion[1,1]\n",
    "              ,'True negatives': confusion[0,0]\n",
    "              ,'False positives': confusion[0,1]\n",
    "              ,'False negatives': confusion[1,0]\n",
    "              }\n",
    "    return scores\n",
    "\n",
    "def finalScores(scores):\n",
    "    cols = ['Accuracy','Precision','Recall','F_Score','Num of Predictions','True positives','False positives','False negatives','True negatives']\n",
    "    final_scores = pd.DataFrame(scores,cols).transpose()\n",
    "    final_scores = final_scores.sort_values(['F_Score','Accuracy'],ascending=False)\n",
    "    return final_scores"
   ]
  },
  {
   "cell_type": "code",
   "execution_count": 14,
   "metadata": {
    "collapsed": true
   },
   "outputs": [],
   "source": [
    "#Naive Bayes\n",
    "from sklearn.naive_bayes import GaussianNB\n",
    "clf_nb = GaussianNB()\n",
    "clf_nb.fit(features_train,labels_train)\n",
    "pred_nb = clf_nb.predict(features_test)\n",
    "nb_scores = modelScoring(pred_nb, labels_test)"
   ]
  },
  {
   "cell_type": "code",
   "execution_count": 15,
   "metadata": {
    "collapsed": true
   },
   "outputs": [],
   "source": [
    "#Dtree\n",
    "from sklearn.tree import DecisionTreeClassifier\n",
    "clf_dt = DecisionTreeClassifier()\n",
    "clf_dt.fit(features_train,labels_train)\n",
    "pred_dt = clf_dt.predict(features_test)\n",
    "dt_scores = modelScoring(pred_dt, labels_test)"
   ]
  },
  {
   "cell_type": "code",
   "execution_count": 16,
   "metadata": {
    "collapsed": true
   },
   "outputs": [],
   "source": [
    "#Logistic Regression\n",
    "from sklearn.linear_model import LogisticRegression\n",
    "clf_lr= LogisticRegression()\n",
    "clf_lr.fit(features_train,labels_train)\n",
    "pred_lr = clf_lr.predict(features_test)\n",
    "lr_scores = modelScoring(pred_lr, labels_test)"
   ]
  },
  {
   "cell_type": "code",
   "execution_count": 17,
   "metadata": {
    "collapsed": true
   },
   "outputs": [],
   "source": [
    "#RandomForestClassifier\n",
    "from sklearn.ensemble import RandomForestClassifier\n",
    "clf_rfc = RandomForestClassifier(n_estimators = 500, n_jobs = -1)\n",
    "clf_rfc.fit(features_train, labels_train)\n",
    "pred_rfc = clf_rfc.predict(features_test)\n",
    "rfc_scores = modelScoring(pred_rfc, labels_test)"
   ]
  },
  {
   "cell_type": "code",
   "execution_count": 18,
   "metadata": {
    "collapsed": true
   },
   "outputs": [],
   "source": [
    "#K Nearest Neighbors Classifier\n",
    "from sklearn.neighbors import KNeighborsClassifier\n",
    "clf_knn = KNeighborsClassifier()\n",
    "clf_knn.fit(features_train, labels_train)\n",
    "pred_knn = clf_knn.predict(features_test)\n",
    "knn_scores = modelScoring(pred_knn, labels_test)"
   ]
  },
  {
   "cell_type": "code",
   "execution_count": 19,
   "metadata": {},
   "outputs": [
    {
     "data": {
      "text/html": [
       "<div>\n",
       "<style>\n",
       "    .dataframe thead tr:only-child th {\n",
       "        text-align: right;\n",
       "    }\n",
       "\n",
       "    .dataframe thead th {\n",
       "        text-align: left;\n",
       "    }\n",
       "\n",
       "    .dataframe tbody tr th {\n",
       "        vertical-align: top;\n",
       "    }\n",
       "</style>\n",
       "<table border=\"1\" class=\"dataframe\">\n",
       "  <thead>\n",
       "    <tr style=\"text-align: right;\">\n",
       "      <th></th>\n",
       "      <th>Accuracy</th>\n",
       "      <th>Precision</th>\n",
       "      <th>Recall</th>\n",
       "      <th>F_Score</th>\n",
       "      <th>Num of Predictions</th>\n",
       "      <th>True positives</th>\n",
       "      <th>False positives</th>\n",
       "      <th>False negatives</th>\n",
       "      <th>True negatives</th>\n",
       "    </tr>\n",
       "  </thead>\n",
       "  <tbody>\n",
       "    <tr>\n",
       "      <th>Naive Bayes</th>\n",
       "      <td>0.558140</td>\n",
       "      <td>0.428571</td>\n",
       "      <td>0.166667</td>\n",
       "      <td>0.240000</td>\n",
       "      <td>43.0</td>\n",
       "      <td>3.0</td>\n",
       "      <td>4.0</td>\n",
       "      <td>15.0</td>\n",
       "      <td>21.0</td>\n",
       "    </tr>\n",
       "    <tr>\n",
       "      <th>K Nearest</th>\n",
       "      <td>0.837209</td>\n",
       "      <td>0.142857</td>\n",
       "      <td>0.500000</td>\n",
       "      <td>0.222222</td>\n",
       "      <td>43.0</td>\n",
       "      <td>1.0</td>\n",
       "      <td>6.0</td>\n",
       "      <td>1.0</td>\n",
       "      <td>35.0</td>\n",
       "    </tr>\n",
       "    <tr>\n",
       "      <th>Decision Tree</th>\n",
       "      <td>0.767442</td>\n",
       "      <td>0.142857</td>\n",
       "      <td>0.200000</td>\n",
       "      <td>0.166667</td>\n",
       "      <td>43.0</td>\n",
       "      <td>1.0</td>\n",
       "      <td>6.0</td>\n",
       "      <td>4.0</td>\n",
       "      <td>32.0</td>\n",
       "    </tr>\n",
       "    <tr>\n",
       "      <th>Logistic Reg</th>\n",
       "      <td>0.744186</td>\n",
       "      <td>0.142857</td>\n",
       "      <td>0.166667</td>\n",
       "      <td>0.153846</td>\n",
       "      <td>43.0</td>\n",
       "      <td>1.0</td>\n",
       "      <td>6.0</td>\n",
       "      <td>5.0</td>\n",
       "      <td>31.0</td>\n",
       "    </tr>\n",
       "    <tr>\n",
       "      <th>Random Forest</th>\n",
       "      <td>0.813953</td>\n",
       "      <td>0.000000</td>\n",
       "      <td>0.000000</td>\n",
       "      <td>0.000000</td>\n",
       "      <td>43.0</td>\n",
       "      <td>0.0</td>\n",
       "      <td>7.0</td>\n",
       "      <td>1.0</td>\n",
       "      <td>35.0</td>\n",
       "    </tr>\n",
       "  </tbody>\n",
       "</table>\n",
       "</div>"
      ],
      "text/plain": [
       "               Accuracy  Precision    Recall   F_Score  Num of Predictions  \\\n",
       "Naive Bayes    0.558140   0.428571  0.166667  0.240000                43.0   \n",
       "K Nearest      0.837209   0.142857  0.500000  0.222222                43.0   \n",
       "Decision Tree  0.767442   0.142857  0.200000  0.166667                43.0   \n",
       "Logistic Reg   0.744186   0.142857  0.166667  0.153846                43.0   \n",
       "Random Forest  0.813953   0.000000  0.000000  0.000000                43.0   \n",
       "\n",
       "               True positives  False positives  False negatives  \\\n",
       "Naive Bayes               3.0              4.0             15.0   \n",
       "K Nearest                 1.0              6.0              1.0   \n",
       "Decision Tree             1.0              6.0              4.0   \n",
       "Logistic Reg              1.0              6.0              5.0   \n",
       "Random Forest             0.0              7.0              1.0   \n",
       "\n",
       "               True negatives  \n",
       "Naive Bayes              21.0  \n",
       "K Nearest                35.0  \n",
       "Decision Tree            32.0  \n",
       "Logistic Reg             31.0  \n",
       "Random Forest            35.0  "
      ]
     },
     "execution_count": 19,
     "metadata": {},
     "output_type": "execute_result"
    }
   ],
   "source": [
    "scores = {'Naive Bayes': nb_scores\n",
    "           ,'Decision Tree': dt_scores\n",
    "           ,'Logistic Reg': lr_scores\n",
    "           ,'Random Forest': rfc_scores\n",
    "           ,'K Nearest': knn_scores}\n",
    "finalScores(scores)"
   ]
  },
  {
   "cell_type": "markdown",
   "metadata": {},
   "source": [
    "Logistic regression seems to be the algorithm with the best parameters for tuning in this case. It also happens to have parameters that will mitigate feature scaling issues. It also seems to be slightly worse than Naive Bayes in recall. Random Forest appears to be overfit with no parameters set. \n",
    "I will tune Logistic regression to see if I can enhance its performance."
   ]
  },
  {
   "cell_type": "markdown",
   "metadata": {
    "collapsed": true
   },
   "source": [
    "### Algorithm Tuning\n",
    "\n",
    "Parameters in machine learning algorithms can change how the behavior handles the features. Tuning refers to either manually, or programatically changing these parameters to enhance prediction performance. Untuned algorithms can provide some insite into data but should never be the end of the investigation. \n",
    "\n",
    "For Logistic Regression I will be tuning with the following parameters:\n",
    "    \n",
    "- max_iter: limits the number of iterations before each solver converges\n",
    "    \n",
    "- penalty: specifies the norm used in penalization with solvers \n",
    "    \n",
    "- C: represents the inverse of regularization strength. smaller values specify stronger regularization"
   ]
  },
  {
   "cell_type": "code",
   "execution_count": 21,
   "metadata": {
    "scrolled": false
   },
   "outputs": [
    {
     "name": "stdout",
     "output_type": "stream",
     "text": [
      "Pipeline(steps=[('scaler', MinMaxScaler(copy=True, feature_range=(0, 1))), ('kbest', SelectKBest(k=10, score_func=<function f_classif at 0x10d23caa0>)), ('clf', GaussianNB(priors=None))])\n",
      "\tAccuracy: 0.83720\tPrecision: 0.35108\tRecall: 0.26050\tF1: 0.29908\tF2: 0.27467\n",
      "\tTotal predictions: 15000\tTrue positives:  521\tFalse positives:  963\tFalse negatives: 1479\tTrue negatives: 12037\n",
      "\n"
     ]
    }
   ],
   "source": [
    "#Naive Bayes Tuning\n",
    "from sklearn.model_selection import GridSearchCV\n",
    "clf_best_estimators={}\n",
    "#lots of these trials are throwing metric errors when calculating \n",
    "#F_score from precision and recall so I've hidden the warings to shorten output a bit.\n",
    "# import warnings\n",
    "# warnings.filterwarnings(\"ignore\")\n",
    "\n",
    "pipeline = Pipeline([('scaler', MinMaxScaler())\n",
    "                    ,('kbest', SelectKBest())\n",
    "                    ,('clf', GaussianNB())\n",
    "                   ])\n",
    "\n",
    "kFeatures = range(1,len(features_list))\n",
    "parameters = {'kbest__k': kFeatures}\n",
    "nb_grid = GridSearchCV(estimator = pipeline\n",
    "                      ,param_grid = parameters\n",
    "                      ,scoring = 'f1'\n",
    "                      ,cv = 10)\n",
    "nb_grid.fit(features_train, labels_train)\n",
    "\n",
    "clf = nb_grid.best_estimator_\n",
    "pred = clf.predict(features_test)\n",
    "test_classifier(clf, my_dataset, features_list)"
   ]
  },
  {
   "cell_type": "code",
   "execution_count": 384,
   "metadata": {
    "scrolled": false
   },
   "outputs": [
    {
     "name": "stdout",
     "output_type": "stream",
     "text": [
      "gridsearching\n",
      "training\n",
      "testing classifier\n",
      "Pipeline(steps=[('scaler', MinMaxScaler(copy=True, feature_range=(0, 1))), ('kbest', SelectKBest(k=4, score_func=<function f_classif at 0x1147ee6e0>)), ('clf', LogisticRegression(C=1.9, class_weight=None, dual=False, fit_intercept=True,\n",
      "          intercept_scaling=1, max_iter=100, multi_class='ovr', n_jobs=1,\n",
      "          penalty='l2', random_state=None, solver='newton-cg', tol=0.0001,\n",
      "          verbose=0, warm_start=False))])\n",
      "\tAccuracy: 0.86213\tPrecision: 0.43033\tRecall: 0.10500\tF1: 0.16881\tF2: 0.12370\n",
      "\tTotal predictions: 15000\tTrue positives:  210\tFalse positives:  278\tFalse negatives: 1790\tTrue negatives: 12722\n",
      "\n"
     ]
    }
   ],
   "source": [
    "#Logistic Regression Tuning\n",
    "from sklearn.model_selection import GridSearchCV\n",
    "\n",
    "pipeline = Pipeline([('scaler', MinMaxScaler())\n",
    "                    ,('kbest', SelectKBest())\n",
    "                    ,('clf', LogisticRegression())\n",
    "                   ])\n",
    "\n",
    "kFeatures = range(1,len(features_list))\n",
    "parameters = {'kbest__k': kFeatures\n",
    "             ,'clf__C' : [1,1.1,1.2,1.3,1.4, 1.5,1.6,1.7,1.8,1.9,2] \n",
    "             ,'clf__solver':('newton-cg','lbfgs','liblinear','sag')\n",
    "             }\n",
    "print 'gridsearching'\n",
    "lr_grid = GridSearchCV(estimator = pipeline\n",
    "                      ,param_grid = parameters\n",
    "                      ,scoring = 'f1'\n",
    "                      ,cv = 10)\n",
    "print 'training'\n",
    "lr_grid.fit(features_train, labels_train)\n",
    "\n",
    "print 'testing classifier'\n",
    "clf = lr_grid.best_estimator_\n",
    "pred = clf.predict(features_test)\n",
    "test_classifier(clf, my_dataset, features_list)"
   ]
  },
  {
   "cell_type": "code",
   "execution_count": 24,
   "metadata": {
    "scrolled": false
   },
   "outputs": [
    {
     "name": "stdout",
     "output_type": "stream",
     "text": [
      "gridsearching\n"
     ]
    },
    {
     "ename": "AttributeError",
     "evalue": "'GridSearchCV' object has no attribute 'get_parameters'",
     "output_type": "error",
     "traceback": [
      "\u001b[0;31m---------------------------------------------------------------------------\u001b[0m",
      "\u001b[0;31mAttributeError\u001b[0m                            Traceback (most recent call last)",
      "\u001b[0;32m<ipython-input-24-71f495b52f43>\u001b[0m in \u001b[0;36m<module>\u001b[0;34m()\u001b[0m\n\u001b[1;32m     18\u001b[0m                       \u001b[0;34m,\u001b[0m\u001b[0mcv\u001b[0m \u001b[0;34m=\u001b[0m \u001b[0;36m10\u001b[0m\u001b[0;34m\u001b[0m\u001b[0m\n\u001b[1;32m     19\u001b[0m                        )\n\u001b[0;32m---> 20\u001b[0;31m \u001b[0mknn_grid\u001b[0m\u001b[0;34m.\u001b[0m\u001b[0mget_parameters\u001b[0m\u001b[0;34m(\u001b[0m\u001b[0;34m)\u001b[0m\u001b[0;34m.\u001b[0m\u001b[0mkeys\u001b[0m\u001b[0;34m\u001b[0m\u001b[0m\n\u001b[0m\u001b[1;32m     21\u001b[0m \u001b[0;34m\u001b[0m\u001b[0m\n\u001b[1;32m     22\u001b[0m \u001b[0;32mprint\u001b[0m \u001b[0;34m'training'\u001b[0m\u001b[0;34m\u001b[0m\u001b[0m\n",
      "\u001b[0;31mAttributeError\u001b[0m: 'GridSearchCV' object has no attribute 'get_parameters'"
     ]
    }
   ],
   "source": [
    "#K Nearest Neighbors Tuning\n",
    "from sklearn.model_selection import GridSearchCV\n",
    "\n",
    "pipeline = Pipeline([('scaler', MinMaxScaler())\n",
    "                    ,('kbest', SelectKBest())\n",
    "                    ,('clf', KNeighborsClassifier())\n",
    "                   ])\n",
    "\n",
    "kFeatures = range(1,len(features_list))\n",
    "parameters = {'kbest__k': kFeatures\n",
    "              ,'clf__n_neighbors':range(2,10)\n",
    "              ,'clf__weights':['uniform','distance']\n",
    "             }\n",
    "print 'gridsearching'\n",
    "knn_grid = GridSearchCV(estimator = pipeline\n",
    "                      ,param_grid = parameters\n",
    "                      ,scoring = 'f1'\n",
    "                      ,cv = 10\n",
    "                       )\n",
    "\n",
    "print 'training'\n",
    "knn_grid.fit(features_train, labels_train)\n",
    "\n",
    "print knn_grid.best_estimator_\n",
    "\n",
    "print 'testing classifier'\n",
    "clf = knn_grid.best_estimator_\n",
    "pred = clf.predict(features_test)\n",
    "test_classifier(clf, my_dataset, features_list)"
   ]
  },
  {
   "cell_type": "code",
   "execution_count": null,
   "metadata": {
    "scrolled": false
   },
   "outputs": [],
   "source": [
    "#Neural Network classifier\n",
    "from sklearn.neural_network import MLPClassifier\n",
    "from sklearn.model_selection import GridSearchCV\n",
    "#clf = MLPClassifier(solver='lbfgs', alpha=1e-5,\n",
    "#                     hidden_layer_sizes=(5, 2), random_state=1)\n",
    "#clf.fit(X, y)   \n",
    "pipeline = Pipeline([('scaler', MinMaxScaler())\n",
    "                    ,('kbest', SelectKBest())\n",
    "                    ,('clf', MLPClassifier())\n",
    "                   ])\n",
    "\n",
    "kFeatures = range(1,6)\n",
    "parameters = {'kbest__k': kFeatures\n",
    "              #,'clf__hidden_layer_sizes':(range(5,10),range(2,4))   \n",
    "              ,'clf__solver':['lbfgs','sgd','adam']\n",
    "              ,'clf__learning_rate':['constant', 'invscaling', 'adaptive']\n",
    "              ,'clf__activation':['identity', 'logistic', 'tanh', 'relu']\n",
    "             }\n",
    "\n",
    "mlp_grid = GridSearchCV(estimator = pipeline\n",
    "                      ,param_grid = parameters\n",
    "                      ,scoring = 'f1'\n",
    "                      ,cv = 10\n",
    "                       )\n",
    "mlp_grid.get_params().keys()\n",
    "print 'training'\n",
    "mlp_grid.fit(features_train, labels_train)\n",
    "\n",
    "print mlp_grid.best_estimator_\n",
    "\n",
    "print 'testing classifier'\n",
    "clf = mlp_grid.best_estimator_\n",
    "pred = clf.predict(features_test)\n",
    "test_classifier(clf, my_dataset, features_list)"
   ]
  },
  {
   "cell_type": "markdown",
   "metadata": {},
   "source": [
    "### Evaluation and Validation\n",
    "By splitting the data set into training and testing data we prevent overtuning an algorithm to the point that it has perfect prediction capablity on the existing data. This may seem like a success during testing but if that algorithm were put into practical use it would be very hard to validate that could generalize new data. Splitting the data into testing and training data helps create an algorithm that hasn't been selected from high scores caused by 'remembering' the training data.\n",
    "\n",
    "Using StatifiedShuffleSplit we can fold limited datasets to emulate larger datasets. Although this strategy wouldn't be as benificial as having a larger dataset, it does provide an advantage over splitting the data proportionally. It also maintains the ratio between classes for each fold as the original data set providing an advantage of manually folding the data set with random slices.\n",
    "\n",
    "In conclusion, by tuning the logistic regression algorithm, precision was unchaged, but recall was improved and subsequently the F score was improved but not to the point that the recall would surpass the .3 threshold required by this class. **I've turned to a different algorithm, KNearestNeighbors** and through piplined tuning, was able to just surpass the .3 threshold for recall at .3065. \n",
    "\n",
    "Precision, being a ratio of correct predictions to all predictions, is in my oppinion less critical in this implementation than recall. Over predicting may actually be desireable, since it would only open that person to further investigation. I would assert that recall is crucial though. A higher recall score indicates that a higher percentage of actual POI's are predicted to be POI's by the algorithm. An 80% recall score on a test set containing 20 POI's would predict 16 of them. In an implementation where finding parties involved in crimes, poor recall could aid potential perpetraitors in avoiding deeper investigation.\n",
    "\n",
    "Further investigation into actual email content may provide better insight into POI identification. The imbalance between identified persons of interest and non POI's may in the financial and email count data more unreliable than it should be."
   ]
  },
  {
   "cell_type": "code",
   "execution_count": 357,
   "metadata": {},
   "outputs": [
    {
     "name": "stdout",
     "output_type": "stream",
     "text": [
      "Pipeline(steps=[('scaler', MinMaxScaler(copy=True, feature_range=(0, 1))), ('kbest', SelectKBest(k=3, score_func=<function f_classif at 0x1147ee6e0>)), ('clf', KNeighborsClassifier(algorithm='auto', leaf_size=30, metric='minkowski',\n",
      "           metric_params=None, n_jobs=1, n_neighbors=2, p=2,\n",
      "           weights='distance'))])\n"
     ]
    }
   ],
   "source": [
    "## Dump your classifier, dataset, and features_list so anyone can\n",
    "## check your results. You do not need to change anything below, but make sure\n",
    "## that the version of poi_id.py that you submit can be run on its own and\n",
    "## generates the necessary .pkl files for validating your results.\n",
    "# features_list, features_scores = selectKbest(3)\n",
    "print clf\n",
    "dump_classifier_and_data(clf\n",
    "                         , my_dataset\n",
    "                         ,features_list)"
   ]
  }
 ],
 "metadata": {
  "kernelspec": {
   "display_name": "Python 2",
   "language": "python",
   "name": "python2"
  },
  "language_info": {
   "codemirror_mode": {
    "name": "ipython",
    "version": 2
   },
   "file_extension": ".py",
   "mimetype": "text/x-python",
   "name": "python",
   "nbconvert_exporter": "python",
   "pygments_lexer": "ipython2",
   "version": "2.7.14"
  }
 },
 "nbformat": 4,
 "nbformat_minor": 2
}
