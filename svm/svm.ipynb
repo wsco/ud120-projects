{
 "cells": [
  {
   "cell_type": "code",
   "execution_count": 10,
   "metadata": {},
   "outputs": [
    {
     "name": "stdout",
     "output_type": "stream",
     "text": [
      "no. of Chris training emails: 7936\n",
      "no. of Sara training emails: 7884\n",
      "training time with svms linear kernel 0.0961561203003\n",
      "prediction time with svms linear kernel 1.0205218792\n",
      "0.884527872582 \n",
      "\n",
      "training time with svms rbf kernel 0.107581853867\n",
      "prediction time with svms rbf kernel 1.25169205666\n",
      "0.616040955631 \n",
      "\n"
     ]
    }
   ],
   "source": [
    "# %load svm_author_id.py\n",
    "#!/usr/bin/python\n",
    "\n",
    "\"\"\" \n",
    "    This is the code to accompany the Lesson 2 (SVM) mini-project.\n",
    "\n",
    "    Use a SVM to identify emails from the Enron corpus by their authors:    \n",
    "    Sara has label 0\n",
    "    Chris has label 1\n",
    "\"\"\"\n",
    "    \n",
    "import sys\n",
    "from time import time\n",
    "sys.path.append(\"../tools/\")\n",
    "from email_preprocess import preprocess\n",
    "\n",
    "\n",
    "### features_train and features_test are the features for the training\n",
    "### and testing datasets, respectively\n",
    "### labels_train and labels_test are the corresponding item labels\n",
    "features_train, features_test, labels_train, labels_test = preprocess()\n",
    "\n",
    "\n",
    "\n",
    "\n",
    "#########################################################\n",
    "### your code goes here ##\n",
    "from sklearn import svm\n",
    "from sklearn.metrics import accuracy_score\n",
    "\n",
    "def train_and_predict(type, svm, features_train, labels_train, features_test, labels_test):\n",
    "    t0 = time()\n",
    "    svm.fit(features_train, labels_train)\n",
    "    print 'training time with svm''s '+ type +' kernel', time()-t0\n",
    "\n",
    "    t1 = time()\n",
    "    pred = svm.predict(features_test)\n",
    "    print 'prediction time with svm''s '+ type +' kernel', time() - t1\n",
    "\n",
    "    acc = accuracy_score(labels_test, pred)\n",
    "    print acc , '\\n'\n",
    "    return pred\n",
    "\n",
    "linear_kernel_svm = svm.SVC(kernel = 'linear')    \n",
    "#train_and_predict('linear', linear_kernel_svm, features_train, labels_train, features_test, labels_test)\n",
    "    \n",
    "features_train_sample = features_train[:len(features_train)/100]\n",
    "labels_train_sample = labels_train[:len(labels_train)/100]\n",
    "\n",
    "train_and_predict('linear', linear_kernel_svm, features_train_sample,\n",
    "                  labels_train_sample, features_test, labels_test)\n",
    "    \n",
    "rbf_kernel_svm = svm.SVC(kernel = 'rbf')\n",
    "train_and_predict('rbf', rbf_kernel_svm, features_train_sample, \n",
    "                  labels_train_sample, features_test, labels_test)\n",
    "\n",
    "#########################################################\n",
    "\n",
    "def time_with_power(power, people, times):\n",
    "    results = nd.random.power(power, people)\n",
    "    for i in range(times):\n",
    "        results += nd.random.power(power, 100)\n",
    "    return results\n",
    "\n"
   ]
  },
  {
   "cell_type": "code",
   "execution_count": 17,
   "metadata": {},
   "outputs": [
    {
     "name": "stdout",
     "output_type": "stream",
     "text": [
      "training time with svms rbf kernel 0.154572963715\n",
      "prediction time with svms rbf kernel 1.25546503067\n",
      "0.616040955631 \n",
      "\n",
      "training time with svms rbf kernel 0.130910873413\n",
      "prediction time with svms rbf kernel 1.26714611053\n",
      "0.616040955631 \n",
      "\n",
      "training time with svms rbf kernel 0.117140054703\n",
      "prediction time with svms rbf kernel 1.23644590378\n",
      "0.821387940842 \n",
      "\n",
      "training time with svms rbf kernel 0.115745067596\n",
      "prediction time with svms rbf kernel 0.970152139664\n",
      "0.892491467577 \n",
      "\n"
     ]
    }
   ],
   "source": [
    "rbf_kernel_svm = svm.SVC(kernel = 'rbf', C=10)\n",
    "train_and_predict('rbf', rbf_kernel_svm, features_train_sample, \n",
    "                  labels_train_sample, features_test, labels_test)\n",
    "\n",
    "rbf_kernel_svm = svm.SVC(kernel = 'rbf', C=100)\n",
    "train_and_predict('rbf', rbf_kernel_svm, features_train_sample, \n",
    "                  labels_train_sample, features_test, labels_test)\n",
    "\n",
    "rbf_kernel_svm = svm.SVC(kernel = 'rbf', C=1000)\n",
    "train_and_predict('rbf', rbf_kernel_svm, features_train_sample, \n",
    "                  labels_train_sample, features_test, labels_test)\n",
    "\n",
    "rbf_kernel_svm = svm.SVC(kernel = 'rbf', C=10000)\n",
    "pred = train_and_predict('rbf', rbf_kernel_svm, features_train_sample, \n",
    "                  labels_train_sample, features_test, labels_test)"
   ]
  },
  {
   "cell_type": "code",
   "execution_count": 20,
   "metadata": {},
   "outputs": [
    {
     "name": "stdout",
     "output_type": "stream",
     "text": [
      "training time with svms rbf kernel 135.970699787\n",
      "prediction time with svms rbf kernel 12.2071669102\n",
      "0.990898748578 \n",
      "\n"
     ]
    }
   ],
   "source": [
    "rbf_kernel_svm = svm.SVC(kernel = 'rbf', C=10000)\n",
    "pred = train_and_predict('rbf', rbf_kernel_svm, features_train, labels_train, features_test, labels_test)"
   ]
  },
  {
   "cell_type": "code",
   "execution_count": 24,
   "metadata": {},
   "outputs": [
    {
     "name": "stdout",
     "output_type": "stream",
     "text": [
      "1\n"
     ]
    }
   ],
   "source": [
    "print pred[10]"
   ]
  },
  {
   "cell_type": "code",
   "execution_count": 25,
   "metadata": {},
   "outputs": [
    {
     "name": "stdout",
     "output_type": "stream",
     "text": [
      "0\n"
     ]
    }
   ],
   "source": [
    "print pred[26]"
   ]
  },
  {
   "cell_type": "code",
   "execution_count": 26,
   "metadata": {},
   "outputs": [
    {
     "name": "stdout",
     "output_type": "stream",
     "text": [
      "1\n"
     ]
    }
   ],
   "source": [
    "print pred[50]"
   ]
  },
  {
   "cell_type": "code",
   "execution_count": 27,
   "metadata": {},
   "outputs": [
    {
     "name": "stdout",
     "output_type": "stream",
     "text": [
      "877\n"
     ]
    }
   ],
   "source": [
    "count = 0\n",
    "for item in pred:\n",
    "    if item == 1:\n",
    "        count +=1\n",
    "print count"
   ]
  }
 ],
 "metadata": {
  "kernelspec": {
   "display_name": "Python 2",
   "language": "python",
   "name": "python2"
  }
 },
 "nbformat": 4,
 "nbformat_minor": 2
}
