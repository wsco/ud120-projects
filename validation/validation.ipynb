{
 "cells": [
  {
   "cell_type": "code",
   "execution_count": 7,
   "metadata": {},
   "outputs": [
    {
     "name": "stdout",
     "output_type": "stream",
     "text": [
      "data loaded\n",
      "Accuracy:  0.724137931034\n"
     ]
    }
   ],
   "source": [
    "# %load validate_poi.py\n",
    "#!/usr/bin/python\n",
    "\n",
    "\n",
    "\"\"\"\n",
    "    Starter code for the validation mini-project.\n",
    "    The first step toward building your POI identifier!\n",
    "\n",
    "    Start by loading/formatting the data\n",
    "\n",
    "    After that, it's not our code anymore--it's yours!\n",
    "\"\"\"\n",
    "\n",
    "import pickle\n",
    "import sys\n",
    "import numpy as np\n",
    "sys.path.append(\"../tools/\")\n",
    "from feature_format import featureFormat, targetFeatureSplit\n",
    "\n",
    "data_dict = pickle.load(open(\"../final_project/final_project_dataset.pkl\", \"r\") )\n",
    "\n",
    "### first element is our labels, any added elements are predictor\n",
    "### features. Keep this the same for the mini-project, but you'll\n",
    "### have a different feature list when you do the final project.\n",
    "features_list = [\"poi\", \"salary\"]\n",
    "\n",
    "data = featureFormat(data_dict, features_list)\n",
    "labels, features = targetFeatureSplit(data)\n",
    "\n",
    "\n",
    "\n",
    "### it's all yours from here forward!  \n",
    "print 'data loaded'\n",
    "\n",
    "from sklearn.cross_validation import train_test_split\n",
    "from sklearn.metrics import accuracy_score\n",
    "from sklearn.tree import DecisionTreeClassifier\n",
    "\n",
    "features_train, features_test, labels_train, labels_test = train_test_split(features, labels, test_size = .3, random_state = 42)\n",
    "\n",
    "clf = DecisionTreeClassifier()\n",
    "clf.fit(features_train, labels_train)\n",
    "\n",
    "pred = clf.predict(features_test)\n",
    "\n",
    "acc = accuracy_score(labels_test, pred)\n",
    "\n",
    "print 'Accuracy: ', acc\n",
    "\n"
   ]
  },
  {
   "cell_type": "code",
   "execution_count": 16,
   "metadata": {},
   "outputs": [
    {
     "name": "stdout",
     "output_type": "stream",
     "text": [
      "25\n",
      "4\n",
      "0.862068965517\n"
     ]
    }
   ],
   "source": [
    "print np.count_nonzero(pred==0)\n",
    "print np.count_nonzero(labels_test)\n",
    "\n",
    "pred0 = [0.0, 0.0, 0.0, 0.0, 0.0, 0.0, 0.0, 0.0, 0.0, 0.0, 0.0, 0.0, 0.0, 0.0, 0.0,\n",
    "         0.0, 0.0, 0.0, 0.0, 0.0, 0.0, 0.0, 0.0, 0.0, 0.0, 0.0, 0.0, 0.0, 0.0]\n",
    "print accuracy_score(labels_test, pred0)"
   ]
  },
  {
   "cell_type": "code",
   "execution_count": 28,
   "metadata": {},
   "outputs": [],
   "source": [
    "for i in range(0,len(pred)-1):\n",
    "    if pred[i] == 1 and labels_test[i]==1:\n",
    "        print pred[i],':', labels_test[i]"
   ]
  },
  {
   "cell_type": "code",
   "execution_count": 43,
   "metadata": {},
   "outputs": [
    {
     "name": "stdout",
     "output_type": "stream",
     "text": [
      "Predictions Length:  20\n",
      "1 : 1\n",
      "1 : 1\n",
      "1 : 1\n",
      "1 : 1\n",
      "1 : 1\n",
      "1 : 1\n",
      "True Positives:  6\n",
      "0 : 0\n",
      "0 : 0\n",
      "0 : 0\n",
      "0 : 0\n",
      "0 : 0\n",
      "0 : 0\n",
      "0 : 0\n",
      "0 : 0\n",
      "0 : 0\n",
      "True Negatives:  9\n",
      "1 : 0\n",
      "1 : 0\n",
      "1 : 0\n",
      "False Positives:  3\n",
      "0 : 1\n",
      "0 : 1\n",
      "False Negatives:  2\n",
      "\n",
      "[[9 3]\n",
      " [2 6]]\n"
     ]
    }
   ],
   "source": [
    "predictions = [0, 1, 1, 0, 0, 0, 1, 0, 1, 0, 0, 1, 0, 0, 1, 1, 0, 1, 0, 1] \n",
    "true_labels = [0, 0, 0, 0, 0, 0, 1, 0, 1, 1, 0, 1, 0, 1, 1, 1, 0, 1, 0, 0]\n",
    "print 'Predictions Length: ', len(predictions)\n",
    "count_true_pos = 0 \n",
    "for i in range(0,len(predictions)):\n",
    "    if predictions[i] == 1 and true_labels[i]==1:\n",
    "        count_true_pos += 1\n",
    "        print predictions[i],':', true_labels[i]\n",
    "print 'True Positives: ', count_true_pos\n",
    "\n",
    "count_true_neg =0\n",
    "for i in range(0,len(predictions)):\n",
    "    if predictions[i] == 0 and true_labels[i]==0:\n",
    "        count_true_neg += 1\n",
    "        print predictions[i],':', true_labels[i]\n",
    "print'True Negatives: ', count_true_neg\n",
    "\n",
    "count_false_pos =0\n",
    "for i in range(0,len(predictions)):\n",
    "    if predictions[i] == 1 and true_labels[i]==0:\n",
    "        count_false_pos += 1\n",
    "        print predictions[i],':', true_labels[i]\n",
    "print'False Positives: ', count_false_pos\n",
    "\n",
    "count_false_neg =0\n",
    "for i in range(0,len(predictions)):\n",
    "    if predictions[i] == 0 and true_labels[i]==1:\n",
    "        count_false_neg += 1\n",
    "        print predictions[i],':', true_labels[i]\n",
    "print'False Negatives: ', count_false_neg\n",
    "\n",
    "from sklearn.metrics import confusion_matrix\n",
    "print\n",
    "print confusion_matrix(true_labels, predictions)\n"
   ]
  }
 ],
 "metadata": {
  "kernelspec": {
   "display_name": "Python 2",
   "language": "python",
   "name": "python2"
  },
  "language_info": {
   "codemirror_mode": {
    "name": "ipython",
    "version": 2
   },
   "file_extension": ".py",
   "mimetype": "text/x-python",
   "name": "python",
   "nbconvert_exporter": "python",
   "pygments_lexer": "ipython2",
   "version": "2.7.14"
  }
 },
 "nbformat": 4,
 "nbformat_minor": 2
}
