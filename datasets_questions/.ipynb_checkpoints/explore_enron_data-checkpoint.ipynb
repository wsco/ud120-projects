{
 "cells": [
  {
   "cell_type": "code",
   "execution_count": 39,
   "metadata": {},
   "outputs": [
    {
     "name": "stdout",
     "output_type": "stream",
     "text": [
      "enron data loaded\n"
     ]
    }
   ],
   "source": [
    "# %load explore_enron_data.py\n",
    "#!/usr/bin/python\n",
    "\n",
    "\"\"\" \n",
    "    Starter code for exploring the Enron dataset (emails + finances);\n",
    "    loads up the dataset (pickled dict of dicts).\n",
    "\n",
    "    The dataset has the form:\n",
    "    enron_data[\"LASTNAME FIRSTNAME MIDDLEINITIAL\"] = { features_dict }\n",
    "\n",
    "    {features_dict} is a dictionary of features associated with that person.\n",
    "    You should explore features_dict as part of the mini-project,\n",
    "    but here's an example to get you started:\n",
    "\n",
    "    enron_data[\"SKILLING JEFFREY K\"][\"bonus\"] = 5600000\n",
    "    \n",
    "\"\"\"\n",
    "\n",
    "import pickle\n",
    "\n",
    "enron_data = pickle.load(open(\"../final_project/final_project_dataset.pkl\", \"r\"))\n",
    "print 'enron data loaded'\n",
    "\n"
   ]
  },
  {
   "cell_type": "code",
   "execution_count": 8,
   "metadata": {},
   "outputs": [
    {
     "data": {
      "text/plain": [
       "146"
      ]
     },
     "execution_count": 8,
     "metadata": {},
     "output_type": "execute_result"
    }
   ],
   "source": [
    "len(enron_data)"
   ]
  },
  {
   "cell_type": "code",
   "execution_count": 47,
   "metadata": {},
   "outputs": [
    {
     "name": "stdout",
     "output_type": "stream",
     "text": [
      "18\n",
      "18\n"
     ]
    }
   ],
   "source": [
    "poi_count = 0\n",
    "for person in enron_data:\n",
    "#     print enron_data[person]['poi']\n",
    "    if enron_data[person]['poi']==1:\n",
    "        poi_count +=1\n",
    "print poi_count\n",
    "\n",
    "poi_count = 0\n",
    "for key, d in enron_data.iteritems():\n",
    "    if d['poi'] == 1:\n",
    "        poi_count +=1\n",
    "print poi_count    "
   ]
  },
  {
   "cell_type": "code",
   "execution_count": 52,
   "metadata": {},
   "outputs": [
    {
     "name": "stdout",
     "output_type": "stream",
     "text": [
      "BANNANTINE JAMES M\n",
      "PRENTICE JAMES\n",
      "NOLES JAMES L\n",
      "BADUM JAMES P\n",
      "HUGHES JAMES A\n",
      "DERRICK JR. JAMES V\n",
      "FALLON JAMES B\n"
     ]
    }
   ],
   "source": [
    "for person in enron_data:\n",
    "    if 'JAMES' in person:\n",
    "        print person"
   ]
  },
  {
   "cell_type": "code",
   "execution_count": 54,
   "metadata": {},
   "outputs": [
    {
     "name": "stdout",
     "output_type": "stream",
     "text": [
      "{'salary': 'NaN', 'to_messages': 'NaN', 'deferral_payments': 564348, 'total_payments': 564348, 'exercised_stock_options': 886231, 'bonus': 'NaN', 'restricted_stock': 208809, 'shared_receipt_with_poi': 'NaN', 'restricted_stock_deferred': 'NaN', 'total_stock_value': 1095040, 'expenses': 'NaN', 'loan_advances': 'NaN', 'from_messages': 'NaN', 'other': 'NaN', 'from_this_person_to_poi': 'NaN', 'poi': False, 'director_fees': 'NaN', 'deferred_income': 'NaN', 'long_term_incentive': 'NaN', 'email_address': 'james.prentice@enron.com', 'from_poi_to_this_person': 'NaN'}\n"
     ]
    }
   ],
   "source": [
    "for person, k in enron_data.iteritems():\n",
    "    if 'PRENTICE JAMES' in person:\n",
    "        print k"
   ]
  },
  {
   "cell_type": "code",
   "execution_count": 56,
   "metadata": {},
   "outputs": [
    {
     "name": "stdout",
     "output_type": "stream",
     "text": [
      "11\n"
     ]
    }
   ],
   "source": [
    "for person, k in enron_data.iteritems():\n",
    "    if 'COLWELL WESLEY' in person:\n",
    "        print enron_data[person]['from_this_person_to_poi']"
   ]
  },
  {
   "cell_type": "code",
   "execution_count": 58,
   "metadata": {},
   "outputs": [
    {
     "name": "stdout",
     "output_type": "stream",
     "text": [
      "19250000\n"
     ]
    }
   ],
   "source": [
    "for person, k in enron_data.iteritems():\n",
    "    if 'SKILLING JEFFREY K' in person:\n",
    "        print enron_data[person]['exercised_stock_options']"
   ]
  }
 ],
 "metadata": {
  "kernelspec": {
   "display_name": "Python 2",
   "language": "python",
   "name": "python2"
  },
  "language_info": {
   "codemirror_mode": {
    "name": "ipython",
    "version": 2
   },
   "file_extension": ".py",
   "mimetype": "text/x-python",
   "name": "python",
   "nbconvert_exporter": "python",
   "pygments_lexer": "ipython2",
   "version": "2.7.14"
  }
 },
 "nbformat": 4,
 "nbformat_minor": 2
}
