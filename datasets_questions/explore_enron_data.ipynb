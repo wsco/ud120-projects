{
 "cells": [
  {
   "cell_type": "code",
   "execution_count": 39,
   "metadata": {},
   "outputs": [
    {
     "name": "stdout",
     "output_type": "stream",
     "text": [
      "enron data loaded\n"
     ]
    }
   ],
   "source": [
    "# %load explore_enron_data.py\n",
    "#!/usr/bin/python\n",
    "\n",
    "\"\"\" \n",
    "    Starter code for exploring the Enron dataset (emails + finances);\n",
    "    loads up the dataset (pickled dict of dicts).\n",
    "\n",
    "    The dataset has the form:\n",
    "    enron_data[\"LASTNAME FIRSTNAME MIDDLEINITIAL\"] = { features_dict }\n",
    "\n",
    "    {features_dict} is a dictionary of features associated with that person.\n",
    "    You should explore features_dict as part of the mini-project,\n",
    "    but here's an example to get you started:\n",
    "\n",
    "    enron_data[\"SKILLING JEFFREY K\"][\"bonus\"] = 5600000\n",
    "    \n",
    "\"\"\"\n",
    "\n",
    "import pickle\n",
    "\n",
    "enron_data = pickle.load(open(\"../final_project/final_project_dataset.pkl\", \"r\"))\n",
    "print 'enron data loaded'\n",
    "\n"
   ]
  },
  {
   "cell_type": "code",
   "execution_count": 8,
   "metadata": {},
   "outputs": [
    {
     "data": {
      "text/plain": [
       "146"
      ]
     },
     "execution_count": 8,
     "metadata": {},
     "output_type": "execute_result"
    }
   ],
   "source": [
    "len(enron_data)"
   ]
  },
  {
   "cell_type": "code",
   "execution_count": 67,
   "metadata": {},
   "outputs": [
    {
     "name": "stdout",
     "output_type": "stream",
     "text": [
      "18\n",
      "18\n"
     ]
    }
   ],
   "source": [
    "poi_count = 0\n",
    "for person in enron_data:\n",
    "#     print enron_data[person]['poi']\n",
    "    if enron_data[person]['poi']==1:\n",
    "        poi_count +=1\n",
    "print poi_count\n",
    "\n",
    "poi_count = 0\n",
    "for key, d in enron_data.iteritems():\n",
    "    if d['poi'] == 1:\n",
    "        poi_count +=1\n",
    "print poi_count    "
   ]
  },
  {
   "cell_type": "code",
   "execution_count": 52,
   "metadata": {},
   "outputs": [
    {
     "name": "stdout",
     "output_type": "stream",
     "text": [
      "BANNANTINE JAMES M\n",
      "PRENTICE JAMES\n",
      "NOLES JAMES L\n",
      "BADUM JAMES P\n",
      "HUGHES JAMES A\n",
      "DERRICK JR. JAMES V\n",
      "FALLON JAMES B\n"
     ]
    }
   ],
   "source": [
    "for person in enron_data:\n",
    "    if 'JAMES' in person:\n",
    "        print person"
   ]
  },
  {
   "cell_type": "code",
   "execution_count": 54,
   "metadata": {},
   "outputs": [
    {
     "name": "stdout",
     "output_type": "stream",
     "text": [
      "{'salary': 'NaN', 'to_messages': 'NaN', 'deferral_payments': 564348, 'total_payments': 564348, 'exercised_stock_options': 886231, 'bonus': 'NaN', 'restricted_stock': 208809, 'shared_receipt_with_poi': 'NaN', 'restricted_stock_deferred': 'NaN', 'total_stock_value': 1095040, 'expenses': 'NaN', 'loan_advances': 'NaN', 'from_messages': 'NaN', 'other': 'NaN', 'from_this_person_to_poi': 'NaN', 'poi': False, 'director_fees': 'NaN', 'deferred_income': 'NaN', 'long_term_incentive': 'NaN', 'email_address': 'james.prentice@enron.com', 'from_poi_to_this_person': 'NaN'}\n"
     ]
    }
   ],
   "source": [
    "for person, k in enron_data.iteritems():\n",
    "    if 'PRENTICE JAMES' in person:\n",
    "        print k"
   ]
  },
  {
   "cell_type": "code",
   "execution_count": 56,
   "metadata": {},
   "outputs": [
    {
     "name": "stdout",
     "output_type": "stream",
     "text": [
      "11\n"
     ]
    }
   ],
   "source": [
    "for person, k in enron_data.iteritems():\n",
    "    if 'COLWELL WESLEY' in person:\n",
    "        print enron_data[person]['from_this_person_to_poi']"
   ]
  },
  {
   "cell_type": "code",
   "execution_count": 58,
   "metadata": {},
   "outputs": [
    {
     "name": "stdout",
     "output_type": "stream",
     "text": [
      "19250000\n"
     ]
    }
   ],
   "source": [
    "for person, k in enron_data.iteritems():\n",
    "    if 'SKILLING JEFFREY K' in person:\n",
    "        print enron_data[person]['exercised_stock_options']"
   ]
  },
  {
   "cell_type": "code",
   "execution_count": 59,
   "metadata": {},
   "outputs": [
    {
     "name": "stdout",
     "output_type": "stream",
     "text": [
      "LAY KENNETH L\n"
     ]
    }
   ],
   "source": [
    "for person in enron_data:\n",
    "    if 'LAY' in person:\n",
    "        print person"
   ]
  },
  {
   "cell_type": "code",
   "execution_count": 61,
   "metadata": {},
   "outputs": [
    {
     "name": "stdout",
     "output_type": "stream",
     "text": [
      "103559793\n",
      "2424083\n",
      "8682716\n"
     ]
    }
   ],
   "source": [
    "for person, k in enron_data.iteritems():\n",
    "    if 'LAY KENNETH' in person:\n",
    "        print enron_data[person]['total_payments']\n",
    "for person, k in enron_data.iteritems():\n",
    "    if 'FASTOW ANDREW' in person:\n",
    "        print enron_data[person]['total_payments']\n",
    "for person, k in enron_data.iteritems():\n",
    "    if 'SKILLING' in person:\n",
    "        print enron_data[person]['total_payments']"
   ]
  },
  {
   "cell_type": "code",
   "execution_count": 83,
   "metadata": {},
   "outputs": [
    {
     "name": "stdout",
     "output_type": "stream",
     "text": [
      "95\n",
      "111\n"
     ]
    }
   ],
   "source": [
    "import math\n",
    "salary_count = 0\n",
    "for person in enron_data:\n",
    "    if not math.isnan(float(enron_data[person]['salary'])):\n",
    "        salary_count +=1\n",
    "print salary_count\n",
    "\n",
    "email_count = 0\n",
    "for person in enron_data:\n",
    "    if 'NaN' not in enron_data[person]['email_address']:\n",
    "        email_count +=1\n",
    "print email_count"
   ]
  },
  {
   "cell_type": "code",
   "execution_count": 86,
   "metadata": {},
   "outputs": [
    {
     "name": "stdout",
     "output_type": "stream",
     "text": [
      "0.143835616438\n"
     ]
    }
   ],
   "source": [
    "total_p_count = 0\n",
    "for person in enron_data:\n",
    "    if not math.isnan(float(enron_data[person]['total_payments'])):\n",
    "        total_p_count +=1\n",
    "ef_count = len(enron_data)\n",
    "missing_p_count = ef_count - total_p_count\n",
    "percent_missing_payments = float(missing_p_count)/float(ef_count)\n",
    "print percent_missing_payments"
   ]
  },
  {
   "cell_type": "code",
   "execution_count": 97,
   "metadata": {},
   "outputs": [
    {
     "name": "stdout",
     "output_type": "stream",
     "text": [
      "0.0%\n"
     ]
    }
   ],
   "source": [
    "poi_count = 0\n",
    "poi_missing_total_payment = 0\n",
    "for person in enron_data:\n",
    "#     print enron_data[person]['poi']\n",
    "    if enron_data[person]['poi']==1:\n",
    "        poi_count +=1\n",
    "    if enron_data[person]['poi']==1 and math.isnan(float(enron_data[person]['total_payments'])):\n",
    "        poi_missing_total_payment +=1\n",
    "\n",
    "print str(float(poi_missing_total_payment)/float(poi_count)*100)+'%'\n",
    "\n"
   ]
  },
  {
   "cell_type": "code",
   "execution_count": 101,
   "metadata": {},
   "outputs": [
    {
     "name": "stdout",
     "output_type": "stream",
     "text": [
      "31 have missing payments\n",
      "0.198717948718\n"
     ]
    }
   ],
   "source": [
    "##Add 10 POI's with NAN for total Payment, What is the result for the whole dataset\n",
    "total_p_count = 0\n",
    "for person in enron_data:\n",
    "    if not math.isnan(float(enron_data[person]['total_payments'])):\n",
    "        total_p_count +=1\n",
    "ef_count = len(enron_data)\n",
    "missing_p_count = ef_count - total_p_count\n",
    "percent_missing_payments = float(missing_p_count+10)/float(ef_count+10)\n",
    "print missing_p_count+10, 'have missing payments'\n",
    "print percent_missing_payments"
   ]
  },
  {
   "cell_type": "code",
   "execution_count": 102,
   "metadata": {},
   "outputs": [
    {
     "name": "stdout",
     "output_type": "stream",
     "text": [
      "10 poi's missing payment\n",
      "out of 28\n",
      "35.7142857143%\n"
     ]
    }
   ],
   "source": [
    "##Add 10 POI's with NAN for total Payment, What is the result for the POIS as a subset?\n",
    "poi_count = 0\n",
    "poi_missing_total_payment = 0\n",
    "for person in enron_data:\n",
    "#     print enron_data[person]['poi']\n",
    "    if enron_data[person]['poi']==1:\n",
    "        poi_count +=1\n",
    "    if enron_data[person]['poi']==1 and math.isnan(float(enron_data[person]['total_payments'])):\n",
    "        poi_missing_total_payment +=1\n",
    "print poi_missing_total_payment+10, \"poi's missing payment\"\n",
    "print 'out of', poi_count+10\n",
    "print str(float(poi_missing_total_payment+10)/float(poi_count+10)*100)+'%'"
   ]
  }
 ],
 "metadata": {
  "kernelspec": {
   "display_name": "Python 2",
   "language": "python",
   "name": "python2"
  },
  "language_info": {
   "codemirror_mode": {
    "name": "ipython",
    "version": 2
   },
   "file_extension": ".py",
   "mimetype": "text/x-python",
   "name": "python",
   "nbconvert_exporter": "python",
   "pygments_lexer": "ipython2",
   "version": "2.7.14"
  }
 },
 "nbformat": 4,
 "nbformat_minor": 2
}
